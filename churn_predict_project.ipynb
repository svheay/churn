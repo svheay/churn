{
 "cells": [
  {
   "cell_type": "code",
   "execution_count": 53,
   "metadata": {},
   "outputs": [
    {
     "data": {
      "text/html": [
       "<div>\n",
       "<style scoped>\n",
       "    .dataframe tbody tr th:only-of-type {\n",
       "        vertical-align: middle;\n",
       "    }\n",
       "\n",
       "    .dataframe tbody tr th {\n",
       "        vertical-align: top;\n",
       "    }\n",
       "\n",
       "    .dataframe thead th {\n",
       "        text-align: right;\n",
       "    }\n",
       "</style>\n",
       "<table border=\"1\" class=\"dataframe\">\n",
       "  <thead>\n",
       "    <tr style=\"text-align: right;\">\n",
       "      <th></th>\n",
       "      <th>customerID</th>\n",
       "      <th>gender</th>\n",
       "      <th>SeniorCitizen</th>\n",
       "      <th>Partner</th>\n",
       "      <th>Dependents</th>\n",
       "      <th>tenure</th>\n",
       "      <th>PhoneService</th>\n",
       "      <th>MultipleLines</th>\n",
       "      <th>InternetService</th>\n",
       "      <th>OnlineSecurity</th>\n",
       "      <th>...</th>\n",
       "      <th>DeviceProtection</th>\n",
       "      <th>TechSupport</th>\n",
       "      <th>StreamingTV</th>\n",
       "      <th>StreamingMovies</th>\n",
       "      <th>Contract</th>\n",
       "      <th>PaperlessBilling</th>\n",
       "      <th>PaymentMethod</th>\n",
       "      <th>MonthlyCharges</th>\n",
       "      <th>TotalCharges</th>\n",
       "      <th>Churn</th>\n",
       "    </tr>\n",
       "  </thead>\n",
       "  <tbody>\n",
       "    <tr>\n",
       "      <th>0</th>\n",
       "      <td>7590-VHVEG</td>\n",
       "      <td>Female</td>\n",
       "      <td>0</td>\n",
       "      <td>Yes</td>\n",
       "      <td>No</td>\n",
       "      <td>1</td>\n",
       "      <td>No</td>\n",
       "      <td>No phone service</td>\n",
       "      <td>DSL</td>\n",
       "      <td>No</td>\n",
       "      <td>...</td>\n",
       "      <td>No</td>\n",
       "      <td>No</td>\n",
       "      <td>No</td>\n",
       "      <td>No</td>\n",
       "      <td>Month-to-month</td>\n",
       "      <td>Yes</td>\n",
       "      <td>Electronic check</td>\n",
       "      <td>29.85</td>\n",
       "      <td>29.85</td>\n",
       "      <td>No</td>\n",
       "    </tr>\n",
       "    <tr>\n",
       "      <th>1</th>\n",
       "      <td>5575-GNVDE</td>\n",
       "      <td>Male</td>\n",
       "      <td>0</td>\n",
       "      <td>No</td>\n",
       "      <td>No</td>\n",
       "      <td>34</td>\n",
       "      <td>Yes</td>\n",
       "      <td>No</td>\n",
       "      <td>DSL</td>\n",
       "      <td>Yes</td>\n",
       "      <td>...</td>\n",
       "      <td>Yes</td>\n",
       "      <td>No</td>\n",
       "      <td>No</td>\n",
       "      <td>No</td>\n",
       "      <td>One year</td>\n",
       "      <td>No</td>\n",
       "      <td>Mailed check</td>\n",
       "      <td>56.95</td>\n",
       "      <td>1889.5</td>\n",
       "      <td>No</td>\n",
       "    </tr>\n",
       "    <tr>\n",
       "      <th>2</th>\n",
       "      <td>3668-QPYBK</td>\n",
       "      <td>Male</td>\n",
       "      <td>0</td>\n",
       "      <td>No</td>\n",
       "      <td>No</td>\n",
       "      <td>2</td>\n",
       "      <td>Yes</td>\n",
       "      <td>No</td>\n",
       "      <td>DSL</td>\n",
       "      <td>Yes</td>\n",
       "      <td>...</td>\n",
       "      <td>No</td>\n",
       "      <td>No</td>\n",
       "      <td>No</td>\n",
       "      <td>No</td>\n",
       "      <td>Month-to-month</td>\n",
       "      <td>Yes</td>\n",
       "      <td>Mailed check</td>\n",
       "      <td>53.85</td>\n",
       "      <td>108.15</td>\n",
       "      <td>Yes</td>\n",
       "    </tr>\n",
       "    <tr>\n",
       "      <th>3</th>\n",
       "      <td>7795-CFOCW</td>\n",
       "      <td>Male</td>\n",
       "      <td>0</td>\n",
       "      <td>No</td>\n",
       "      <td>No</td>\n",
       "      <td>45</td>\n",
       "      <td>No</td>\n",
       "      <td>No phone service</td>\n",
       "      <td>DSL</td>\n",
       "      <td>Yes</td>\n",
       "      <td>...</td>\n",
       "      <td>Yes</td>\n",
       "      <td>Yes</td>\n",
       "      <td>No</td>\n",
       "      <td>No</td>\n",
       "      <td>One year</td>\n",
       "      <td>No</td>\n",
       "      <td>Bank transfer (automatic)</td>\n",
       "      <td>42.30</td>\n",
       "      <td>1840.75</td>\n",
       "      <td>No</td>\n",
       "    </tr>\n",
       "    <tr>\n",
       "      <th>4</th>\n",
       "      <td>9237-HQITU</td>\n",
       "      <td>Female</td>\n",
       "      <td>0</td>\n",
       "      <td>No</td>\n",
       "      <td>No</td>\n",
       "      <td>2</td>\n",
       "      <td>Yes</td>\n",
       "      <td>No</td>\n",
       "      <td>Fiber optic</td>\n",
       "      <td>No</td>\n",
       "      <td>...</td>\n",
       "      <td>No</td>\n",
       "      <td>No</td>\n",
       "      <td>No</td>\n",
       "      <td>No</td>\n",
       "      <td>Month-to-month</td>\n",
       "      <td>Yes</td>\n",
       "      <td>Electronic check</td>\n",
       "      <td>70.70</td>\n",
       "      <td>151.65</td>\n",
       "      <td>Yes</td>\n",
       "    </tr>\n",
       "  </tbody>\n",
       "</table>\n",
       "<p>5 rows × 21 columns</p>\n",
       "</div>"
      ],
      "text/plain": [
       "   customerID  gender  SeniorCitizen Partner Dependents  tenure PhoneService  \\\n",
       "0  7590-VHVEG  Female              0     Yes         No       1           No   \n",
       "1  5575-GNVDE    Male              0      No         No      34          Yes   \n",
       "2  3668-QPYBK    Male              0      No         No       2          Yes   \n",
       "3  7795-CFOCW    Male              0      No         No      45           No   \n",
       "4  9237-HQITU  Female              0      No         No       2          Yes   \n",
       "\n",
       "      MultipleLines InternetService OnlineSecurity  ... DeviceProtection  \\\n",
       "0  No phone service             DSL             No  ...               No   \n",
       "1                No             DSL            Yes  ...              Yes   \n",
       "2                No             DSL            Yes  ...               No   \n",
       "3  No phone service             DSL            Yes  ...              Yes   \n",
       "4                No     Fiber optic             No  ...               No   \n",
       "\n",
       "  TechSupport StreamingTV StreamingMovies        Contract PaperlessBilling  \\\n",
       "0          No          No              No  Month-to-month              Yes   \n",
       "1          No          No              No        One year               No   \n",
       "2          No          No              No  Month-to-month              Yes   \n",
       "3         Yes          No              No        One year               No   \n",
       "4          No          No              No  Month-to-month              Yes   \n",
       "\n",
       "               PaymentMethod MonthlyCharges  TotalCharges Churn  \n",
       "0           Electronic check          29.85         29.85    No  \n",
       "1               Mailed check          56.95        1889.5    No  \n",
       "2               Mailed check          53.85        108.15   Yes  \n",
       "3  Bank transfer (automatic)          42.30       1840.75    No  \n",
       "4           Electronic check          70.70        151.65   Yes  \n",
       "\n",
       "[5 rows x 21 columns]"
      ]
     },
     "execution_count": 53,
     "metadata": {},
     "output_type": "execute_result"
    }
   ],
   "source": [
    "\n",
    "import numpy as np \n",
    "import pandas as pd \n",
    "telcom = pd.read_csv('Telco-Customer-Churn.csv')\n",
    "telcom.head()"
   ]
  },
  {
   "cell_type": "code",
   "execution_count": 54,
   "metadata": {},
   "outputs": [
    {
     "name": "stdout",
     "output_type": "stream",
     "text": [
      "\n",
      "Features : \n",
      " ['customerID' 'gender' 'SeniorCitizen' 'Partner' 'Dependents' 'tenure'\n",
      " 'PhoneService' 'MultipleLines' 'InternetService' 'OnlineSecurity'\n",
      " 'OnlineBackup' 'DeviceProtection' 'TechSupport' 'StreamingTV'\n",
      " 'StreamingMovies' 'Contract' 'PaperlessBilling' 'PaymentMethod'\n",
      " 'MonthlyCharges' 'TotalCharges' 'Churn']\n",
      "\n",
      "Missing values :   0\n",
      "\n",
      "Unique values :  \n",
      " customerID          7043\n",
      "gender                 2\n",
      "SeniorCitizen          2\n",
      "Partner                2\n",
      "Dependents             2\n",
      "tenure                73\n",
      "PhoneService           2\n",
      "MultipleLines          3\n",
      "InternetService        3\n",
      "OnlineSecurity         3\n",
      "OnlineBackup           3\n",
      "DeviceProtection       3\n",
      "TechSupport            3\n",
      "StreamingTV            3\n",
      "StreamingMovies        3\n",
      "Contract               3\n",
      "PaperlessBilling       2\n",
      "PaymentMethod          4\n",
      "MonthlyCharges      1585\n",
      "TotalCharges        6531\n",
      "Churn                  2\n",
      "dtype: int64\n"
     ]
    }
   ],
   "source": [
    "print (\"\\nFeatures : \\n\" ,telcom.columns.values)\n",
    "print (\"\\nMissing values :  \", telcom.isnull().sum().values.sum())\n",
    "print (\"\\nUnique values :  \\n\",telcom.nunique())"
   ]
  },
  {
   "cell_type": "code",
   "execution_count": 55,
   "metadata": {},
   "outputs": [
    {
     "data": {
      "text/html": [
       "        <script type=\"text/javascript\">\n",
       "        window.PlotlyConfig = {MathJaxConfig: 'local'};\n",
       "        if (window.MathJax) {MathJax.Hub.Config({SVG: {font: \"STIX-Web\"}});}\n",
       "        if (typeof require !== 'undefined') {\n",
       "        require.undef(\"plotly\");\n",
       "        requirejs.config({\n",
       "            paths: {\n",
       "                'plotly': ['https://cdn.plot.ly/plotly-latest.min']\n",
       "            }\n",
       "        });\n",
       "        require(['plotly'], function(Plotly) {\n",
       "            window._Plotly = Plotly;\n",
       "        });\n",
       "        }\n",
       "        </script>\n",
       "        "
      ]
     },
     "metadata": {},
     "output_type": "display_data"
    }
   ],
   "source": [
    "\n",
    "import io\n",
    "import plotly.offline as py#visualization\n",
    "py.init_notebook_mode(connected=True)#visualization\n",
    "import plotly.graph_objs as go#visualization\n",
    "import plotly.tools as tls#visualization\n",
    "import plotly.figure_factory as ff#visualization\n",
    "import pandas as pd # data processing, CSV file I/O (e.g. pd.read_csv)\n",
    "import seaborn as sns # For creating plots\n",
    "import matplotlib.ticker as mtick # For specifying the axes tick format \n",
    "import matplotlib.pyplot as plt\n",
    "\n",
    "sns.set(style = 'white')\n",
    "\n",
    "# Input data files are available in the \"../input/\" directory.\n",
    "\n",
    "import os"
   ]
  },
  {
   "cell_type": "code",
   "execution_count": 56,
   "metadata": {},
   "outputs": [],
   "source": [
    "telcom.TotalCharges = pd.to_numeric(telcom.TotalCharges, errors='coerce')\n",
    "telcom.isnull().sum()\n",
    "telcom['TotalCharges'] = telcom['TotalCharges'].replace(\" \", 0).astype('float32')## deal with missing values in totalcharges"
   ]
  },
  {
   "cell_type": "code",
   "execution_count": 57,
   "metadata": {},
   "outputs": [
    {
     "data": {
      "text/html": [
       "<div>\n",
       "<style scoped>\n",
       "    .dataframe tbody tr th:only-of-type {\n",
       "        vertical-align: middle;\n",
       "    }\n",
       "\n",
       "    .dataframe tbody tr th {\n",
       "        vertical-align: top;\n",
       "    }\n",
       "\n",
       "    .dataframe thead th {\n",
       "        text-align: right;\n",
       "    }\n",
       "</style>\n",
       "<table border=\"1\" class=\"dataframe\">\n",
       "  <thead>\n",
       "    <tr style=\"text-align: right;\">\n",
       "      <th></th>\n",
       "      <th>SeniorCitizen</th>\n",
       "      <th>tenure</th>\n",
       "      <th>MonthlyCharges</th>\n",
       "      <th>TotalCharges</th>\n",
       "      <th>gender_Female</th>\n",
       "      <th>gender_Male</th>\n",
       "      <th>Partner_No</th>\n",
       "      <th>Partner_Yes</th>\n",
       "      <th>Dependents_No</th>\n",
       "      <th>Dependents_Yes</th>\n",
       "      <th>...</th>\n",
       "      <th>Contract_One year</th>\n",
       "      <th>Contract_Two year</th>\n",
       "      <th>PaperlessBilling_No</th>\n",
       "      <th>PaperlessBilling_Yes</th>\n",
       "      <th>PaymentMethod_Bank transfer (automatic)</th>\n",
       "      <th>PaymentMethod_Credit card (automatic)</th>\n",
       "      <th>PaymentMethod_Electronic check</th>\n",
       "      <th>PaymentMethod_Mailed check</th>\n",
       "      <th>Churn_No</th>\n",
       "      <th>Churn_Yes</th>\n",
       "    </tr>\n",
       "  </thead>\n",
       "  <tbody>\n",
       "    <tr>\n",
       "      <th>0</th>\n",
       "      <td>0</td>\n",
       "      <td>1</td>\n",
       "      <td>29.85</td>\n",
       "      <td>29.850000</td>\n",
       "      <td>1</td>\n",
       "      <td>0</td>\n",
       "      <td>0</td>\n",
       "      <td>1</td>\n",
       "      <td>1</td>\n",
       "      <td>0</td>\n",
       "      <td>...</td>\n",
       "      <td>0</td>\n",
       "      <td>0</td>\n",
       "      <td>0</td>\n",
       "      <td>1</td>\n",
       "      <td>0</td>\n",
       "      <td>0</td>\n",
       "      <td>1</td>\n",
       "      <td>0</td>\n",
       "      <td>1</td>\n",
       "      <td>0</td>\n",
       "    </tr>\n",
       "    <tr>\n",
       "      <th>1</th>\n",
       "      <td>0</td>\n",
       "      <td>34</td>\n",
       "      <td>56.95</td>\n",
       "      <td>1889.500000</td>\n",
       "      <td>0</td>\n",
       "      <td>1</td>\n",
       "      <td>1</td>\n",
       "      <td>0</td>\n",
       "      <td>1</td>\n",
       "      <td>0</td>\n",
       "      <td>...</td>\n",
       "      <td>1</td>\n",
       "      <td>0</td>\n",
       "      <td>1</td>\n",
       "      <td>0</td>\n",
       "      <td>0</td>\n",
       "      <td>0</td>\n",
       "      <td>0</td>\n",
       "      <td>1</td>\n",
       "      <td>1</td>\n",
       "      <td>0</td>\n",
       "    </tr>\n",
       "    <tr>\n",
       "      <th>2</th>\n",
       "      <td>0</td>\n",
       "      <td>2</td>\n",
       "      <td>53.85</td>\n",
       "      <td>108.150002</td>\n",
       "      <td>0</td>\n",
       "      <td>1</td>\n",
       "      <td>1</td>\n",
       "      <td>0</td>\n",
       "      <td>1</td>\n",
       "      <td>0</td>\n",
       "      <td>...</td>\n",
       "      <td>0</td>\n",
       "      <td>0</td>\n",
       "      <td>0</td>\n",
       "      <td>1</td>\n",
       "      <td>0</td>\n",
       "      <td>0</td>\n",
       "      <td>0</td>\n",
       "      <td>1</td>\n",
       "      <td>0</td>\n",
       "      <td>1</td>\n",
       "    </tr>\n",
       "    <tr>\n",
       "      <th>3</th>\n",
       "      <td>0</td>\n",
       "      <td>45</td>\n",
       "      <td>42.30</td>\n",
       "      <td>1840.750000</td>\n",
       "      <td>0</td>\n",
       "      <td>1</td>\n",
       "      <td>1</td>\n",
       "      <td>0</td>\n",
       "      <td>1</td>\n",
       "      <td>0</td>\n",
       "      <td>...</td>\n",
       "      <td>1</td>\n",
       "      <td>0</td>\n",
       "      <td>1</td>\n",
       "      <td>0</td>\n",
       "      <td>1</td>\n",
       "      <td>0</td>\n",
       "      <td>0</td>\n",
       "      <td>0</td>\n",
       "      <td>1</td>\n",
       "      <td>0</td>\n",
       "    </tr>\n",
       "    <tr>\n",
       "      <th>4</th>\n",
       "      <td>0</td>\n",
       "      <td>2</td>\n",
       "      <td>70.70</td>\n",
       "      <td>151.649994</td>\n",
       "      <td>1</td>\n",
       "      <td>0</td>\n",
       "      <td>1</td>\n",
       "      <td>0</td>\n",
       "      <td>1</td>\n",
       "      <td>0</td>\n",
       "      <td>...</td>\n",
       "      <td>0</td>\n",
       "      <td>0</td>\n",
       "      <td>0</td>\n",
       "      <td>1</td>\n",
       "      <td>0</td>\n",
       "      <td>0</td>\n",
       "      <td>1</td>\n",
       "      <td>0</td>\n",
       "      <td>0</td>\n",
       "      <td>1</td>\n",
       "    </tr>\n",
       "  </tbody>\n",
       "</table>\n",
       "<p>5 rows × 47 columns</p>\n",
       "</div>"
      ],
      "text/plain": [
       "   SeniorCitizen  tenure  MonthlyCharges  TotalCharges  gender_Female  \\\n",
       "0              0       1           29.85     29.850000              1   \n",
       "1              0      34           56.95   1889.500000              0   \n",
       "2              0       2           53.85    108.150002              0   \n",
       "3              0      45           42.30   1840.750000              0   \n",
       "4              0       2           70.70    151.649994              1   \n",
       "\n",
       "   gender_Male  Partner_No  Partner_Yes  Dependents_No  Dependents_Yes  ...  \\\n",
       "0            0           0            1              1               0  ...   \n",
       "1            1           1            0              1               0  ...   \n",
       "2            1           1            0              1               0  ...   \n",
       "3            1           1            0              1               0  ...   \n",
       "4            0           1            0              1               0  ...   \n",
       "\n",
       "   Contract_One year  Contract_Two year  PaperlessBilling_No  \\\n",
       "0                  0                  0                    0   \n",
       "1                  1                  0                    1   \n",
       "2                  0                  0                    0   \n",
       "3                  1                  0                    1   \n",
       "4                  0                  0                    0   \n",
       "\n",
       "   PaperlessBilling_Yes  PaymentMethod_Bank transfer (automatic)  \\\n",
       "0                     1                                        0   \n",
       "1                     0                                        0   \n",
       "2                     1                                        0   \n",
       "3                     0                                        1   \n",
       "4                     1                                        0   \n",
       "\n",
       "   PaymentMethod_Credit card (automatic)  PaymentMethod_Electronic check  \\\n",
       "0                                      0                               1   \n",
       "1                                      0                               0   \n",
       "2                                      0                               0   \n",
       "3                                      0                               0   \n",
       "4                                      0                               1   \n",
       "\n",
       "   PaymentMethod_Mailed check  Churn_No  Churn_Yes  \n",
       "0                           0         1          0  \n",
       "1                           1         1          0  \n",
       "2                           1         0          1  \n",
       "3                           0         1          0  \n",
       "4                           0         0          1  \n",
       "\n",
       "[5 rows x 47 columns]"
      ]
     },
     "execution_count": 57,
     "metadata": {},
     "output_type": "execute_result"
    }
   ],
   "source": [
    "telcom.iloc[:,1:].replace(to_replace='Yes', value=1, inplace=True)\n",
    "telcom.iloc[:,1:].replace(to_replace='No',  value=0, inplace=True)\n",
    "#####replace the  predictor variable which is customer id\n",
    "#in a binary numeric variable\n",
    "df_dummies = pd.get_dummies(telcom.iloc[:,1:])\n",
    "df_dummies.head()\n"
   ]
  },
  {
   "cell_type": "markdown",
   "metadata": {},
   "source": [
    "Exploratory data analysis"
   ]
  },
  {
   "cell_type": "code",
   "execution_count": 58,
   "metadata": {},
   "outputs": [
    {
     "data": {
      "image/png": "[encoded data removed]",
      "text/plain": [
       "<Figure size 432x288 with 1 Axes>"
      ]
     },
     "metadata": {},
     "output_type": "display_data"
    }
   ],
   "source": [
    "colors = ['#006400','#ff8c00']\n",
    "ax = (telcom['gender'].value_counts()*100.0 /len(telcom)).plot(kind='bar',\n",
    "                                                                           stacked = True,\n",
    "                                                                          rot = 0,\n",
    "                                                                          color = colors)\n",
    "ax.yaxis.set_major_formatter(mtick.PercentFormatter())\n",
    "ax.set_ylabel('% Customers')\n",
    "ax.set_xlabel('Gender')\n",
    "ax.set_ylabel('% Customers')\n",
    "ax.set_title('Gender Distribution')\n",
    "\n",
    "# create a list to collect the plt.patches data\n",
    "totals = []\n",
    "\n",
    "# find the values and append to list\n",
    "for i in ax.patches:\n",
    "    totals.append(i.get_width())\n",
    "\n",
    "# set individual bar lables using above list\n",
    "total = sum(totals)\n",
    "\n",
    "for i in ax.patches:\n",
    "    # get_width pulls left or right; get_y pushes up or down\n",
    "    ax.text(i.get_x()+.15, i.get_height()-3.5, \\\n",
    "            str(round((i.get_height()/total), 1))+'%',\n",
    "            fontsize=12,\n",
    "            color='white',\n",
    "           weight = 'bold')\n"
   ]
  },
  {
   "cell_type": "code",
   "execution_count": 59,
   "metadata": {},
   "outputs": [
    {
     "data": {
      "text/plain": [
       "Text(0.5, 1.0, '# of Customers by Contract Type')"
      ]
     },
     "execution_count": 59,
     "metadata": {},
     "output_type": "execute_result"
    },
    {
     "data": {
      "image/png": "[encoded data removed]",
      "text/plain": [
       "<Figure size 432x288 with 1 Axes>"
      ]
     },
     "metadata": {},
     "output_type": "display_data"
    }
   ],
   "source": [
    "ax = telcom['Contract'].value_counts().plot(kind = 'bar',rot = 0, width = 0.3,color = ['b'])\n",
    "ax.set_ylabel('# of Customers')\n",
    "ax.set_title('# of Customers by Contract Type')\n",
    "\n",
    "####contract distribution "
   ]
  },
  {
   "cell_type": "code",
   "execution_count": 60,
   "metadata": {},
   "outputs": [
    {
     "data": {
      "text/plain": [
       "Text(0.5, 1.0, '% of Senior Citizens')"
      ]
     },
     "execution_count": 60,
     "metadata": {},
     "output_type": "execute_result"
    },
    {
     "data": {
      "image/png": "[encoded data removed]",
      "text/plain": [
       "<Figure size 360x360 with 1 Axes>"
      ]
     },
     "metadata": {},
     "output_type": "display_data"
    }
   ],
   "source": [
    "ax = (telcom['SeniorCitizen'].value_counts()*100.0 /len(telcom))\\\n",
    ".plot.pie(autopct='%.1f%%', labels = ['No', 'Yes'],figsize =(5,5), fontsize = 12 )                                                                           \n",
    "ax.yaxis.set_major_formatter(mtick.PercentFormatter())\n",
    "ax.set_ylabel('Senior Citizens',fontsize = 12)\n",
    "ax.set_title('% of Senior Citizens', fontsize = 12)"
   ]
  },
  {
   "cell_type": "code",
   "execution_count": 61,
   "metadata": {},
   "outputs": [
    {
     "data": {
      "image/png": "[encoded data removed]",
      "text/plain": [
       "<Figure size 1080x864 with 9 Axes>"
      ]
     },
     "metadata": {},
     "output_type": "display_data"
    }
   ],
   "source": [
    "##distribution of services used by customers\n",
    "\n",
    "services = ['PhoneService','MultipleLines','InternetService','OnlineSecurity',\n",
    "           'OnlineBackup','DeviceProtection','TechSupport','StreamingTV','StreamingMovies']\n",
    "\n",
    "fig, axes = plt.subplots(nrows = 3,ncols = 3,figsize = (15,12))\n",
    "for i, item in enumerate(services):\n",
    "    if i < 3:\n",
    "        ax = telcom[item].value_counts().plot(kind = 'bar',ax=axes[i,0],rot = 0,color = ['darkorange','g'])\n",
    "        \n",
    "    elif i >=3 and i < 6:\n",
    "        ax = telcom[item].value_counts().plot(kind = 'bar',ax=axes[i-3,1],rot = 0,color = ['darkorange','g'])\n",
    "        \n",
    "    elif i < 9:\n",
    "        ax = telcom[item].value_counts().plot(kind = 'bar',ax=axes[i-6,2],rot = 0,color = ['darkorange','g'])\n",
    "    ax.set_title(item)"
   ]
  },
  {
   "cell_type": "markdown",
   "metadata": {},
   "source": [
    "now we are going to visulaze the distribution on churn or not"
   ]
  },
  {
   "cell_type": "code",
   "execution_count": 62,
   "metadata": {},
   "outputs": [
    {
     "data": {
      "text/plain": [
       "Text(0.5, 1.0, '% of Senior Citizens')"
      ]
     },
     "execution_count": 62,
     "metadata": {},
     "output_type": "execute_result"
    },
    {
     "data": {
      "image/png": "[encoded data removed]",
      "text/plain": [
       "<Figure size 360x360 with 1 Axes>"
      ]
     },
     "metadata": {},
     "output_type": "display_data"
    }
   ],
   "source": [
    "ax = (telcom['Churn'].value_counts()*100.0 /len(telcom))\\\n",
    ".plot.pie(autopct='%.1f%%', labels = ['No', 'Yes'],figsize =(5,5), fontsize = 12 )                                                                           \n",
    "ax.yaxis.set_major_formatter(mtick.PercentFormatter())\n",
    "ax.set_ylabel('Senior Citizens',fontsize = 12)\n",
    "ax.set_title('% of Senior Citizens', fontsize = 12)"
   ]
  },
  {
   "cell_type": "code",
   "execution_count": 63,
   "metadata": {},
   "outputs": [
    {
     "data": {
      "text/plain": [
       "<matplotlib.axes._subplots.AxesSubplot at 0x1c229a37f0>"
      ]
     },
     "execution_count": 63,
     "metadata": {},
     "output_type": "execute_result"
    },
    {
     "data": {
      "image/png": "[encoded data removed]",
      "text/plain": [
       "<Figure size 432x288 with 1 Axes>"
      ]
     },
     "metadata": {},
     "output_type": "display_data"
    }
   ],
   "source": [
    "sns.boxplot(x = telcom.Churn, y = telcom.tenure)"
   ]
  },
  {
   "cell_type": "code",
   "execution_count": 64,
   "metadata": {},
   "outputs": [
    {
     "data": {
      "image/png": "[encoded data removed]",
      "text/plain": [
       "<Figure size 720x432 with 1 Axes>"
      ]
     },
     "metadata": {},
     "output_type": "display_data"
    }
   ],
   "source": [
    "colors = ['#006400','#ff8c00']\n",
    "contract_churn = telcom.groupby(['Contract','Churn']).size().unstack()\n",
    "\n",
    "ax = (contract_churn.T*100.0 / contract_churn.T.sum()).T.plot(kind='bar',\n",
    "                                                                width = 0.3,\n",
    "                                                                stacked = True,\n",
    "                                                                rot = 0, \n",
    "                                                                figsize = (10,6),\n",
    "                                                                color = colors)\n",
    "ax.yaxis.set_major_formatter(mtick.PercentFormatter())\n",
    "ax.legend(loc='best',prop={'size':14},title = 'Churn')\n",
    "ax.set_ylabel('% Customers',size = 14)\n",
    "ax.set_title('Churn by Contract Type',size = 14)\n",
    "\n",
    "# Code to add the data labels on the stacked bar chart\n",
    "for p in ax.patches:\n",
    "    width, height = p.get_width(), p.get_height()\n",
    "    x, y = p.get_xy() \n",
    "    ax.annotate('{:.0f}%'.format(height), (p.get_x()+.25*width, p.get_y()+.4*height),\n",
    "                color = 'white',\n",
    "               weight = 'bold',\n",
    "               size = 14)"
   ]
  },
  {
   "cell_type": "markdown",
   "metadata": {},
   "source": [
    "which is clearly to see that for those people who made shorter contract, they are more likely to churn compared to those people who made longer contract"
   ]
  },
  {
   "cell_type": "code",
   "execution_count": 65,
   "metadata": {},
   "outputs": [
    {
     "data": {
      "image/png": "[encoded data removed]",
      "text/plain": [
       "<Figure size 576x432 with 1 Axes>"
      ]
     },
     "metadata": {},
     "output_type": "display_data"
    }
   ],
   "source": [
    "colors = ['#006400','#ff8c00']\n",
    "seniority_churn = telcom.groupby(['SeniorCitizen','Churn']).size().unstack()\n",
    "\n",
    "ax = (seniority_churn.T*100.0 / seniority_churn.T.sum()).T.plot(kind='bar',\n",
    "                                                                width = 0.2,\n",
    "                                                                stacked = True,\n",
    "                                                                rot = 0, \n",
    "                                                                figsize = (8,6),\n",
    "                                                                color = colors)\n",
    "ax.yaxis.set_major_formatter(mtick.PercentFormatter())\n",
    "ax.legend(loc='center',prop={'size':14},title = 'Churn')\n",
    "ax.set_ylabel('% Customers')\n",
    "ax.set_title('Churn by Seniority Level',size = 14)\n",
    "\n",
    "# Code to add the data labels on the stacked bar chart\n",
    "for p in ax.patches:\n",
    "    width, height = p.get_width(), p.get_height()\n",
    "    x, y = p.get_xy() \n",
    "    ax.annotate('{:.0f}%'.format(height), (p.get_x()+.25*width, p.get_y()+.4*height),\n",
    "                color = 'white',\n",
    "               weight = 'bold',size =14)"
   ]
  },
  {
   "cell_type": "code",
   "execution_count": 66,
   "metadata": {},
   "outputs": [
    {
     "data": {
      "text/plain": [
       "Text(0.5, 1.0, 'Distribution of monthly charges by churn')"
      ]
     },
     "execution_count": 66,
     "metadata": {},
     "output_type": "execute_result"
    },
    {
     "data": {
      "image/png": "[encoded data removed]",
      "text/plain": [
       "<Figure size 432x288 with 1 Axes>"
      ]
     },
     "metadata": {},
     "output_type": "display_data"
    }
   ],
   "source": [
    "ax = sns.kdeplot(telcom.MonthlyCharges[(telcom[\"Churn\"] == 'No') ],\n",
    "                color=\"Red\", shade = True)\n",
    "ax = sns.kdeplot(telcom.MonthlyCharges[(telcom[\"Churn\"] == 'Yes') ],\n",
    "                ax =ax, color=\"Blue\", shade= True)\n",
    "ax.legend([\"Not Churn\",\"Churn\"],loc='upper right')\n",
    "ax.set_ylabel('Density')\n",
    "ax.set_xlabel('Monthly Charges')\n",
    "ax.set_title('Distribution of monthly charges by churn')"
   ]
  },
  {
   "cell_type": "markdown",
   "metadata": {},
   "source": [
    "From above figure, we can tell that churn rate grows faster when the monthly charges from 60 to 100, but decrease sharply after 100, now we need to check the total charges"
   ]
  },
  {
   "cell_type": "code",
   "execution_count": 67,
   "metadata": {},
   "outputs": [
    {
     "data": {
      "text/plain": [
       "Text(0.5, 1.0, 'Distribution of total charges by churn')"
      ]
     },
     "execution_count": 67,
     "metadata": {},
     "output_type": "execute_result"
    },
    {
     "data": {
      "image/png": "[encoded data removed]",
      "text/plain": [
       "<Figure size 432x288 with 1 Axes>"
      ]
     },
     "metadata": {},
     "output_type": "display_data"
    }
   ],
   "source": [
    "ax = sns.kdeplot(telcom.TotalCharges[(telcom[\"Churn\"] == 'No') ],\n",
    "                color=\"Red\", shade = True)\n",
    "ax = sns.kdeplot(telcom.TotalCharges[(telcom[\"Churn\"] == 'Yes') ],\n",
    "                ax =ax, color=\"Blue\", shade= True)\n",
    "ax.legend([\"Not Churn\",\"Churn\"],loc='upper right')\n",
    "ax.set_ylabel('Density')\n",
    "ax.set_xlabel('Total Charges')\n",
    "ax.set_title('Distribution of total charges by churn')"
   ]
  },
  {
   "cell_type": "code",
   "execution_count": 69,
   "metadata": {},
   "outputs": [],
   "source": [
    "from sklearn.preprocessing import LabelEncoder\n",
    "from sklearn.preprocessing import StandardScaler\n",
    "\n",
    "#customer id col\n",
    "Id_col     = ['customerID']\n",
    "#Target columns\n",
    "target_col = [\"Churn\"]\n",
    "#categorical columns\n",
    "cat_cols   = telcom.nunique()[telcom.nunique() < 6].keys().tolist()\n",
    "cat_cols   = [x for x in cat_cols if x not in target_col]\n",
    "#numerical columns\n",
    "num_cols   = [x for x in telcom.columns if x not in cat_cols + target_col + Id_col]\n",
    "#Binary columns with 2 values\n",
    "bin_cols   = telcom.nunique()[telcom.nunique() == 2].keys().tolist()\n",
    "#Columns more than 2 values\n",
    "multi_cols = [i for i in cat_cols if i not in bin_cols]\n",
    "\n",
    "#Label encoding Binary columns\n",
    "le = LabelEncoder()\n",
    "for i in bin_cols :\n",
    "    telcom[i] = le.fit_transform(telcom[i])\n",
    "    #Duplicating columns for multi value columns\n",
    "telcom = pd.get_dummies(data = telcom,columns = multi_cols )\n",
    "\n",
    "#Scaling Numerical columns\n",
    "std = StandardScaler()\n",
    "scaled = std.fit_transform(telcom[num_cols])\n",
    "scaled = pd.DataFrame(scaled,columns=num_cols)\n",
    "\n",
    "#dropping original values merging scaled values for numerical columns\n",
    "df_telcom_og = telcom.copy()\n",
    "telcom = telcom.drop(columns = num_cols,axis = 1)\n",
    "telcom = telcom.merge(scaled,left_index=True,right_index=True,how = \"left\")"
   ]
  },
  {
   "cell_type": "code",
   "execution_count": 70,
   "metadata": {},
   "outputs": [
    {
     "data": {
      "application/vnd.plotly.v1+json": {
       "config": {
        "linkText": "Export to plot.ly",
        "plotlyServerURL": "https://plot.ly",
        "showLink": false
       },
       "data": [
        {
         "colorbar": {
          "title": {
           "side": "right",
           "text": "Pearson Correlation coefficient"
          }
         },
         "colorscale": [
          [
           0,
           "#440154"
          ],
          [
           0.1111111111111111,
           "#482878"
          ],
          [
           0.2222222222222222,
           "#3e4989"
          ],
          [
           0.3333333333333333,
           "#31688e"
          ],
          [
           0.4444444444444444,
           "#26828e"
          ],
          [
           0.5555555555555556,
           "#1f9e89"
          ],
          [
           0.6666666666666666,
           "#35b779"
          ],
          [
           0.7777777777777778,
           "#6ece58"
          ],
          [
           0.8888888888888888,
           "#b5de2b"
          ],
          [
           1,
           "#fde725"
          ]
         ],
         "type": "heatmap",
         "x": [
          "gender",
          "SeniorCitizen",
          "Partner",
          "Dependents",
          "PhoneService",
          "PaperlessBilling",
          "Churn",
          "MultipleLines_No",
          "MultipleLines_No phone service",
          "MultipleLines_Yes",
          "InternetService_DSL",
          "InternetService_Fiber optic",
          "InternetService_No",
          "OnlineSecurity_No",
          "OnlineSecurity_No internet service",
          "OnlineSecurity_Yes",
          "OnlineBackup_No",
          "OnlineBackup_No internet service",
          "OnlineBackup_Yes",
          "DeviceProtection_No",
          "DeviceProtection_No internet service",
          "DeviceProtection_Yes",
          "TechSupport_No",
          "TechSupport_No internet service",
          "TechSupport_Yes",
          "StreamingTV_No",
          "StreamingTV_No internet service",
          "StreamingTV_Yes",
          "StreamingMovies_No",
          "StreamingMovies_No internet service",
          "StreamingMovies_Yes",
          "Contract_Month-to-month",
          "Contract_One year",
          "Contract_Two year",
          "PaymentMethod_Bank transfer (automatic)",
          "PaymentMethod_Credit card (automatic)",
          "PaymentMethod_Electronic check",
          "PaymentMethod_Mailed check",
          "tenure",
          "MonthlyCharges",
          "TotalCharges"
         ],
         "y": [
          "gender",
          "SeniorCitizen",
          "Partner",
          "Dependents",
          "PhoneService",
          "PaperlessBilling",
          "Churn",
          "MultipleLines_No",
          "MultipleLines_No phone service",
          "MultipleLines_Yes",
          "InternetService_DSL",
          "InternetService_Fiber optic",
          "InternetService_No",
          "OnlineSecurity_No",
          "OnlineSecurity_No internet service",
          "OnlineSecurity_Yes",
          "OnlineBackup_No",
          "OnlineBackup_No internet service",
          "OnlineBackup_Yes",
          "DeviceProtection_No",
          "DeviceProtection_No internet service",
          "DeviceProtection_Yes",
          "TechSupport_No",
          "TechSupport_No internet service",
          "TechSupport_Yes",
          "StreamingTV_No",
          "StreamingTV_No internet service",
          "StreamingTV_Yes",
          "StreamingMovies_No",
          "StreamingMovies_No internet service",
          "StreamingMovies_Yes",
          "Contract_Month-to-month",
          "Contract_One year",
          "Contract_Two year",
          "PaymentMethod_Bank transfer (automatic)",
          "PaymentMethod_Credit card (automatic)",
          "PaymentMethod_Electronic check",
          "PaymentMethod_Mailed check",
          "tenure",
          "MonthlyCharges",
          "TotalCharges"
         ],
         "z": [
          [
           1,
           -0.0018737116382603585,
           -0.001808079661789092,
           0.010516611922734686,
           -0.006487672136207867,
           -0.011753691221221238,
           -0.008612095078997463,
           0.004476122373779718,
           0.006487672136207865,
           -0.00841365587151559,
           0.006567778691102118,
           -0.011286442720116788,
           0.006025751154069604,
           0.01042908841920113,
           0.006025751154069604,
           -0.017020796813958704,
           0.008190988066357157,
           0.006025751154069604,
           -0.01377318872900596,
           -0.002987541400969158,
           0.006025751154069604,
           -0.0021045826513881854,
           0.0033971478097872105,
           0.006025751154069604,
           -0.009211760356587549,
           0.0032674444881383704,
           0.006025751154069604,
           -0.008392549998355633,
           0.005374329036311909,
           0.006025751154069604,
           -0.010487356300499686,
           -0.0033859456136262796,
           0.008025643075007296,
           -0.0036950508034764595,
           -0.016023595160041378,
           0.0012147794729686294,
           0.0007521807011949914,
           0.013744173305345336,
           0.00510622261994955,
           -0.014569323728666463,
           4.783870977345061e-05
          ],
          [
           -0.0018737116382603585,
           1,
           0.016478657597413158,
           -0.21118508849394904,
           0.008576401079278321,
           0.15652955931114873,
           0.15088932817647296,
           -0.13621309673895696,
           -0.008576401079278324,
           0.14294817476275615,
           -0.10832221369857437,
           0.25533777295512944,
           -0.18274172290672117,
           0.18553213243210376,
           -0.18274172290672117,
           -0.03865270449719614,
           0.08795164806617205,
           -0.18274172290672117,
           0.06657213514513345,
           0.09481048468667089,
           -0.18274172290672117,
           0.05942849428692483,
           0.20562007664086115,
           -0.18274172290672117,
           -0.06062459069356379,
           0.049061697629495186,
           -0.18274172290672117,
           0.1053776678428196,
           0.03420956058873309,
           -0.18274172290672117,
           0.12017625118896011,
           0.13836046440262936,
           -0.046262442927024604,
           -0.11700001812505513,
           -0.016158940862199146,
           -0.0241353723603211,
           0.17171777869091615,
           -0.15347749042895084,
           0.016566877681808662,
           0.22017333857626337,
           0.10241060563801817
          ],
          [
           -0.001808079661789092,
           0.016478657597413158,
           1,
           0.4526762829294439,
           0.01770566322397003,
           -0.014876622287889343,
           -0.15044754495916807,
           -0.12992895796527704,
           -0.01770566322397003,
           0.14205707936226336,
           -0.0008509247739520219,
           0.00030366541646410116,
           0.0006151650863897412,
           -0.1299364400615401,
           0.0006151650863897412,
           0.14310622750263163,
           -0.13605809786455927,
           0.0006151650863897412,
           0.14149801947226973,
           -0.147692450221436,
           0.0006151650863897412,
           0.15378643563076652,
           -0.10944322601173453,
           0.0006151650863897412,
           0.11999886976430937,
           -0.12435692810797745,
           0.0006151650863897412,
           0.1246658005648968,
           -0.11752910944225665,
           0.0006151650863897412,
           0.11741185447194351,
           -0.28086522610830583,
           0.08278330748147045,
           0.24809065453753587,
           0.11070636952476212,
           0.08202919645731585,
           -0.08385168936270106,
           -0.09512485882292497,
           0.3796974611682682,
           0.0968479362564688,
           0.3190723625585756
          ],
          [
           0.010516611922734686,
           -0.21118508849394904,
           0.4526762829294439,
           1,
           -0.0017616785446833952,
           -0.11137722919362898,
           -0.16422140157973802,
           0.023198487672255422,
           0.0017616785446832332,
           -0.024525804414101075,
           0.052010348064670545,
           -0.16581835875542186,
           0.13981188531169106,
           -0.18843382069111725,
           0.13981188531169106,
           0.0809716602324878,
           -0.1387564851212686,
           0.13981188531169106,
           0.023671013010513185,
           -0.12941524522970857,
           0.13981188531169106,
           0.01396253565379059,
           -0.1726445096177079,
           0.13981188531169106,
           0.06326814139964838,
           -0.10117591361448183,
           0.13981188531169106,
           -0.016557742951036198,
           -0.07819808202669813,
           0.13981188531169106,
           -0.039740962058925404,
           -0.23172016612971874,
           0.06836848043822162,
           0.20461344694775824,
           0.05202098094740329,
           0.06026700017637367,
           -0.15064248847911435,
           0.05907101281466968,
           0.15971233121691794,
           -0.11389023002193659,
           0.06465324930083799
          ],
          [
           -0.006487672136207867,
           0.008576401079278321,
           0.01770566322397003,
           -0.0017616785446833952,
           1,
           0.016504805732567716,
           0.011941980029002547,
           0.31543109424025745,
           -1,
           0.27968999474292017,
           -0.452425489961283,
           0.2899989345730554,
           0.17220876982804517,
           -0.05787969996011212,
           0.17220876982804517,
           -0.09289270011220115,
           -0.09286669818148435,
           0.17220876982804517,
           -0.052312242947634764,
           -0.07477580293540653,
           0.17220876982804517,
           -0.07122688671746603,
           -0.05444676293913726,
           0.17220876982804517,
           -0.09633961826825559,
           -0.12245547899852695,
           0.17220876982804517,
           -0.02257359179493519,
           -0.11225408873033375,
           0.17220876982804517,
           -0.03295889236478296,
           -0.0007424302790417011,
           -0.002790643098633068,
           0.0035189075685092257,
           0.00755621292514459,
           -0.007721160009098325,
           0.0030618298454302066,
           -0.0033187895436075847,
           0.00844820673274314,
           0.24739796321412494,
           0.11300826111493893
          ],
          [
           -0.011753691221221238,
           0.15652955931114873,
           -0.014876622287889343,
           -0.11137722919362898,
           0.016504805732567716,
           1,
           0.19182533166644541,
           -0.15186361470687518,
           -0.0165048057325677,
           0.16353017421289867,
           -0.0631210849300296,
           0.32685324851959013,
           -0.3210130652332027,
           0.26779314581033625,
           -0.3210130652332027,
           -0.0036358971484736916,
           0.1451204561734168,
           -0.3210130652332027,
           0.12673537300695792,
           0.16712125287116622,
           -0.3210130652332027,
           0.10379680498154323,
           0.23013613487107135,
           -0.3210130652332027,
           0.03787990020728005,
           0.04771151266520775,
           -0.3210130652332027,
           0.22384098246008893,
           0.059487769080054306,
           -0.3210130652332027,
           0.21171599176513312,
           0.16909644687220246,
           -0.051391159173448574,
           -0.14788875031014193,
           -0.016332203527892688,
           -0.013588829059283302,
           0.20886475546714192,
           -0.2053980051888406,
           0.0061524815982704735,
           0.35214996779595914,
           0.15782978296862482
          ],
          [
           -0.008612095078997463,
           0.15088932817647296,
           -0.15044754495916807,
           -0.16422140157973802,
           0.011941980029002547,
           0.19182533166644541,
           1,
           -0.03256857845018864,
           -0.011941980029002547,
           0.04010212769982239,
           -0.12421382390258645,
           0.3080197449448075,
           -0.22789044975610792,
           0.34263679985111534,
           -0.22789044975610792,
           -0.17122629194853634,
           0.26800518096235426,
           -0.22789044975610792,
           -0.08225486893813826,
           0.25248136059565807,
           -0.22789044975610792,
           -0.06615979128028415,
           0.3372807277351956,
           -0.22789044975610792,
           -0.16467355590159904,
           0.12891588111511512,
           -0.22789044975610792,
           0.06322774611875473,
           0.13084502938617007,
           -0.22789044975610792,
           0.06138154801518815,
           0.40510291068797993,
           -0.17782001834992608,
           -0.3022534693496566,
           -0.11793667192853156,
           -0.13430175066263256,
           0.301918749011285,
           -0.09168283858843226,
           -0.3522286701130738,
           0.19335642223784563,
           -0.19948408409395482
          ],
          [
           0.004476122373779718,
           -0.13621309673895696,
           -0.12992895796527704,
           0.023198487672255422,
           0.31543109424025745,
           -0.15186361470687518,
           -0.03256857845018864,
           1,
           -0.31543109424025745,
           -0.8228533739769971,
           -0.07017933361588229,
           -0.19019164164266983,
           0.31004604059739277,
           -0.11803967172970328,
           0.31004604059739277,
           -0.1519504841683278,
           -0.036276537396139424,
           0.31004604059739277,
           -0.23085237242152853,
           -0.026745679380691646,
           0.31004604059739277,
           -0.2409597698249054,
           -0.1134822345257722,
           0.31004604059739277,
           -0.15642521492470993,
           0.004912604988265538,
           0.31004604059739277,
           -0.2675281328562756,
           0.01307605676809046,
           0.31004604059739277,
           -0.27525622600611316,
           0.08674010596728214,
           0.0020978506739198588,
           -0.10293688202926672,
           -0.07017770331025897,
           -0.06392145833871449,
           -0.08083556522609313,
           0.222605254379153,
           -0.32308808987259535,
           -0.33831372903110696,
           -0.3967653772151228
          ],
          [
           0.006487672136207865,
           -0.008576401079278324,
           -0.01770566322397003,
           0.0017616785446832332,
           -1,
           -0.0165048057325677,
           -0.011941980029002547,
           -0.31543109424025745,
           1,
           -0.27968999474292017,
           0.452425489961283,
           -0.2899989345730554,
           -0.17220876982804517,
           0.05787969996011212,
           -0.17220876982804517,
           0.09289270011220115,
           0.09286669818148435,
           -0.17220876982804517,
           0.052312242947634764,
           0.07477580293540653,
           -0.17220876982804517,
           0.07122688671746603,
           0.054446762939137264,
           -0.17220876982804517,
           0.09633961826825559,
           0.12245547899852695,
           -0.17220876982804517,
           0.022573591794935188,
           0.11225408873033375,
           -0.17220876982804517,
           0.03295889236478296,
           0.0007424302790417001,
           0.0027906430986330373,
           -0.0035189075685089083,
           -0.007556212925144589,
           0.0077211600090983275,
           -0.0030618298454302066,
           0.003318789543607618,
           -0.00844820673274314,
           -0.24739796321412494,
           -0.11300826111493896
          ],
          [
           -0.00841365587151559,
           0.14294817476275615,
           0.14205707936226336,
           -0.024525804414101075,
           0.27968999474292017,
           0.16353017421289867,
           0.04010212769982239,
           -0.8228533739769971,
           -0.27968999474292017,
           1,
           -0.1999202093533399,
           0.3660832496117892,
           -0.21056352377914278,
           0.08476581836042205,
           -0.21056352377914278,
           0.09810813969724957,
           -0.018908397931387724,
           -0.21056352377914278,
           0.20223701632048843,
           -0.017717886378631025,
           -0.21056352377914278,
           0.20113653254496486,
           0.08221059829549753,
           -0.21056352377914278,
           0.10057130998574261,
           -0.0782996455466118,
           -0.21056352377914278,
           0.25715163510819916,
           -0.0804501027578153,
           -0.21056352377914278,
           0.25875149199378983,
           -0.08820313233781159,
           -0.0037935880457823363,
           0.10625270251960395,
           0.07552652675122472,
           0.06004835777743914,
           0.08361817831666819,
           -0.22720630042804055,
           0.331940555609175,
           0.49043396944000867,
           0.4690421358679648
          ],
          [
           0.006567778691102118,
           -0.10832221369857437,
           -0.0008509247739520219,
           0.052010348064670545,
           -0.452425489961283,
           -0.0631210849300296,
           -0.12421382390258645,
           -0.07017933361588229,
           0.452425489961283,
           -0.1999202093533399,
           1,
           -0.6409871702805158,
           -0.3806345434753767,
           0.023065732064935042,
           -0.3806345434753767,
           0.3212689079448847,
           0.1647830436719273,
           -0.3806345434753767,
           0.15788439397403897,
           0.1759418306369677,
           -0.3806345434753767,
           0.1462906413147331,
           0.0294017846056387,
           -0.3806345434753767,
           0.3131179268609463,
           0.3040624179005031,
           -0.3806345434753767,
           0.01627372679457073,
           0.29510661726278103,
           -0.3806345434753767,
           0.02569783199417058,
           -0.06550876072359825,
           0.04679527357238784,
           0.031714234510355516,
           0.025475536146245106,
           0.05143757263283329,
           -0.10441759819553018,
           0.041899281981820136,
           0.01327408764927343,
           -0.1601893262044364,
           -0.05218986637650994
          ],
          [
           -0.011286442720116788,
           0.25533777295512944,
           0.00030366541646410116,
           -0.16581835875542186,
           0.2899989345730554,
           0.32685324851959013,
           0.3080197449448075,
           -0.19019164164266983,
           -0.2899989345730554,
           0.3660832496117892,
           -0.6409871702805158,
           1,
           -0.4657927104460395,
           0.41156075490341365,
           -0.4657927104460395,
           -0.03069571096235206,
           0.22804703338286397,
           -0.4657927104460395,
           0.16565089083393386,
           0.21814804662159046,
           -0.4657927104460395,
           0.17604889095153575,
           0.40242972350684364,
           -0.4657927104460395,
           -0.020492402500577954,
           0.06470665733452634,
           -0.4657927104460395,
           0.3293485259115254,
           0.07064998669449263,
           -0.4657927104460395,
           0.32292269808483876,
           0.24416415597397462,
           -0.076324090894692,
           -0.21152603536969214,
           -0.022624012243866037,
           -0.05007665545044517,
           0.3364097780255705,
           -0.30683412957623935,
           0.019720367686755506,
           0.787065528472674,
           0.3607687917499204
          ],
          [
           0.006025751154069604,
           -0.18274172290672117,
           0.0006151650863897412,
           0.13981188531169106,
           0.17220876982804517,
           -0.3210130652332027,
           -0.22789044975610792,
           0.31004604059739277,
           -0.17220876982804517,
           -0.21056352377914278,
           -0.3806345434753767,
           -0.4657927104460395,
           1,
           -0.5224293380827663,
           1,
           -0.333402704896457,
           -0.4647198001961842,
           1,
           -0.3815932968077265,
           -0.46565849427066547,
           1,
           -0.38075433795294245,
           -0.5187332164827466,
           1,
           -0.3362982846984971,
           -0.4285039212787635,
           1,
           -0.415551893880319,
           -0.42533933333412005,
           1,
           -0.4186750789702281,
           -0.21863876616156266,
           0.03800394241917166,
           0.21827822340961614,
           -0.0021133998738822233,
           0.0010297293228975783,
           -0.2849166458500381,
           0.32136073231782275,
           -0.039061982110431215,
           -0.7635565582866174,
           -0.3748783625811951
          ],
          [
           0.01042908841920113,
           0.18553213243210376,
           -0.1299364400615401,
           -0.18843382069111725,
           -0.05787969996011212,
           0.26779314581033625,
           0.34263679985111534,
           -0.11803967172970328,
           0.05787969996011212,
           0.08476581836042205,
           0.023065732064935042,
           0.41156075490341365,
           -0.5224293380827663,
           1,
           -0.5224293380827663,
           -0.6297165782520794,
           0.3784675418700155,
           -0.5224293380827663,
           0.057714565735976324,
           0.3718077741863385,
           -0.5224293380827663,
           0.06461530560083964,
           0.4703593138247001,
           -0.5224293380827663,
           -0.043910700525214064,
           0.2576991250070113,
           -0.5224293380827663,
           0.1830345989339524,
           0.2653036710804196,
           -0.5224293380827663,
           0.17548650825381457,
           0.403255273689533,
           -0.121903990041482,
           -0.35330004567349094,
           -0.08432241177256201,
           -0.10550969525221791,
           0.3363640634929488,
           -0.19171501561255763,
           -0.2637461471340514,
           0.3608980557319581,
           -0.0645149078943777
          ],
          [
           0.006025751154069604,
           -0.18274172290672117,
           0.0006151650863897412,
           0.13981188531169106,
           0.17220876982804517,
           -0.3210130652332027,
           -0.22789044975610792,
           0.31004604059739277,
           -0.17220876982804517,
           -0.21056352377914278,
           -0.3806345434753767,
           -0.4657927104460395,
           1,
           -0.5224293380827663,
           1,
           -0.333402704896457,
           -0.4647198001961842,
           1,
           -0.3815932968077265,
           -0.46565849427066547,
           1,
           -0.38075433795294245,
           -0.5187332164827466,
           1,
           -0.3362982846984971,
           -0.4285039212787635,
           1,
           -0.415551893880319,
           -0.42533933333412005,
           1,
           -0.4186750789702281,
           -0.21863876616156266,
           0.03800394241917166,
           0.21827822340961614,
           -0.0021133998738822233,
           0.0010297293228975783,
           -0.2849166458500381,
           0.32136073231782275,
           -0.039061982110431215,
           -0.7635565582866174,
           -0.3748783625811951
          ],
          [
           -0.017020796813958704,
           -0.03865270449719614,
           0.14310622750263163,
           0.0809716602324878,
           -0.09289270011220115,
           -0.0036358971484736916,
           -0.17122629194853634,
           -0.1519504841683278,
           0.09289270011220115,
           0.09810813969724957,
           0.3212689079448847,
           -0.03069571096235206,
           -0.333402704896457,
           -0.6297165782520794,
           -0.333402704896457,
           1,
           0.004916961154575785,
           -0.333402704896457,
           0.28383223353270814,
           0.013135642952553143,
           -0.333402704896457,
           0.2754379787437894,
           -0.047476707861269014,
           -0.333402704896457,
           0.3549307078927568,
           0.10545284137355028,
           -0.333402704896457,
           0.17620730704239565,
           0.09416167701138893,
           -0.333402704896457,
           0.18739833092625272,
           -0.2466788676313635,
           0.10016245689105537,
           0.19177339915203528,
           0.0951580427350095,
           0.11572065517555083,
           -0.11233777625406866,
           -0.08079805377721072,
           0.3272027731682441,
           0.2965941920005668,
           0.41261876926038354
          ],
          [
           0.008190988066357157,
           0.08795164806617205,
           -0.13605809786455927,
           -0.1387564851212686,
           -0.09286669818148435,
           0.1451204561734168,
           0.26800518096235426,
           -0.036276537396139424,
           0.09286669818148435,
           -0.018908397931387724,
           0.1647830436719273,
           0.22804703338286397,
           -0.4647198001961842,
           0.3784675418700155,
           -0.4647198001961842,
           0.004916961154575785,
           1,
           -0.4647198001961842,
           -0.6411215340096442,
           0.36148772590561074,
           -0.4647198001961842,
           0.02534646925562355,
           0.38534099035575453,
           -0.4647198001961842,
           -0.0026421872822138376,
           0.3166891639904631,
           -0.4647198001961842,
           0.07477581218873115,
           0.30720048539707323,
           -0.4647198001961842,
           0.08465426824068802,
           0.33879627049374006,
           -0.11175479793647007,
           -0.287943533604371,
           -0.08159008505663891,
           -0.08782179736768794,
           0.236946963871235,
           -0.09997516637631303,
           -0.31269380305203076,
           0.21075337001875705,
           -0.17763334951349558
          ],
          [
           0.006025751154069604,
           -0.18274172290672117,
           0.0006151650863897412,
           0.13981188531169106,
           0.17220876982804517,
           -0.3210130652332027,
           -0.22789044975610792,
           0.31004604059739277,
           -0.17220876982804517,
           -0.21056352377914278,
           -0.3806345434753767,
           -0.4657927104460395,
           1,
           -0.5224293380827663,
           1,
           -0.333402704896457,
           -0.4647198001961842,
           1,
           -0.3815932968077265,
           -0.46565849427066547,
           1,
           -0.38075433795294245,
           -0.5187332164827466,
           1,
           -0.3362982846984971,
           -0.4285039212787635,
           1,
           -0.415551893880319,
           -0.42533933333412005,
           1,
           -0.4186750789702281,
           -0.21863876616156266,
           0.03800394241917166,
           0.21827822340961614,
           -0.0021133998738822233,
           0.0010297293228975783,
           -0.2849166458500381,
           0.32136073231782275,
           -0.039061982110431215,
           -0.7635565582866174,
           -0.3748783625811951
          ],
          [
           -0.01377318872900596,
           0.06657213514513345,
           0.14149801947226973,
           0.023671013010513185,
           -0.052312242947634764,
           0.12673537300695792,
           -0.08225486893813826,
           -0.23085237242152853,
           0.052312242947634764,
           0.20223701632048843,
           0.15788439397403897,
           0.16565089083393386,
           -0.3815932968077265,
           0.057714565735976324,
           -0.3815932968077265,
           0.28383223353270814,
           -0.6411215340096442,
           -0.3815932968077265,
           1,
           0.026235683743165893,
           -0.3815932968077265,
           0.3035462090113026,
           0.047335882351172774,
           -0.3815932968077265,
           0.2942328784069205,
           0.040798532040264956,
           -0.3815932968077265,
           0.2821064219717299,
           0.04796097848423509,
           -0.3815932968077265,
           0.274501201960493,
           -0.16417233309253518,
           0.08372237279772053,
           0.11139959504622358,
           0.08700369093869247,
           0.0907847854525632,
           -0.0004077158725881331,
           -0.17416391693981773,
           0.3602769889846693,
           0.44178009435947035,
           0.5101002903810599
          ],
          [
           -0.002987541400969158,
           0.09481048468667089,
           -0.147692450221436,
           -0.12941524522970857,
           -0.07477580293540653,
           0.16712125287116622,
           0.25248136059565807,
           -0.026745679380691646,
           0.07477580293540653,
           -0.017717886378631025,
           0.1759418306369677,
           0.21814804662159046,
           -0.46565849427066547,
           0.3718077741863385,
           -0.46565849427066547,
           0.013135642952553143,
           0.36148772590561074,
           -0.46565849427066547,
           0.026235683743165893,
           1,
           -0.46565849427066547,
           -0.6410041479023251,
           0.4198920913161316,
           -0.46565849427066547,
           -0.03984991501391333,
           0.42071974916022903,
           -0.46565849427066547,
           -0.02915400095643604,
           0.4295445476186081,
           -0.46565849427066547,
           -0.037315508234341724,
           0.39745402965013243,
           -0.12963895511138288,
           -0.33919023519492847,
           -0.0777908059204601,
           -0.10761821698475751,
           0.23970498373584637,
           -0.08742249237996844,
           -0.3127402234192639,
           0.1718362532134267,
           -0.18948522868296697
          ],
          [
           0.006025751154069604,
           -0.18274172290672117,
           0.0006151650863897412,
           0.13981188531169106,
           0.17220876982804517,
           -0.3210130652332027,
           -0.22789044975610792,
           0.31004604059739277,
           -0.17220876982804517,
           -0.21056352377914278,
           -0.3806345434753767,
           -0.4657927104460395,
           1,
           -0.5224293380827663,
           1,
           -0.333402704896457,
           -0.4647198001961842,
           1,
           -0.3815932968077265,
           -0.46565849427066547,
           1,
           -0.38075433795294245,
           -0.5187332164827466,
           1,
           -0.3362982846984971,
           -0.4285039212787635,
           1,
           -0.415551893880319,
           -0.42533933333412005,
           1,
           -0.4186750789702281,
           -0.21863876616156266,
           0.03800394241917166,
           0.21827822340961614,
           -0.0021133998738822233,
           0.0010297293228975783,
           -0.2849166458500381,
           0.32136073231782275,
           -0.039061982110431215,
           -0.7635565582866174,
           -0.3748783625811951
          ],
          [
           -0.0021045826513881854,
           0.05942849428692483,
           0.15378643563076652,
           0.01396253565379059,
           -0.07122688671746603,
           0.10379680498154323,
           -0.06615979128028415,
           -0.2409597698249054,
           0.07122688671746603,
           0.20113653254496486,
           0.1462906413147331,
           0.17604889095153575,
           -0.38075433795294245,
           0.06461530560083964,
           -0.38075433795294245,
           0.2754379787437894,
           0.02534646925562355,
           -0.38075433795294245,
           0.3035462090113026,
           -0.6410041479023251,
           -0.38075433795294245,
           1,
           0.011167583362492491,
           -0.38075433795294245,
           0.3333125623154421,
           -0.06795386778344824,
           -0.38075433795294245,
           0.3908740269195431,
           -0.0799193432714472,
           -0.38075433795294245,
           0.40211053776620614,
           -0.2256620025394026,
           0.10249519931671455,
           0.16509639131424095,
           0.08311454613207714,
           0.11155436356101248,
           -0.003350773408872253,
           -0.18737348746355928,
           0.36065286693247117,
           0.48269204827330237,
           0.5228814863623661
          ],
          [
           0.0033971478097872105,
           0.20562007664086115,
           -0.10944322601173453,
           -0.1726445096177079,
           -0.05444676293913726,
           0.23013613487107135,
           0.3372807277351956,
           -0.1134822345257722,
           0.054446762939137264,
           0.08221059829549753,
           0.0294017846056387,
           0.40242972350684364,
           -0.5187332164827466,
           0.4703593138247001,
           -0.5187332164827466,
           -0.047476707861269014,
           0.38534099035575453,
           -0.5187332164827466,
           0.047335882351172774,
           0.4198920913161316,
           -0.5187332164827466,
           0.011167583362492491,
           1,
           -0.5187332164827466,
           -0.6306917657939353,
           0.34701599555377316,
           -0.5187332164827466,
           0.08999139229988345,
           0.3459931591717508,
           -0.5187332164827466,
           0.09139547530347826,
           0.4391098285439591,
           -0.1182617086805767,
           -0.3984897987262164,
           -0.09017661798725884,
           -0.10730963427620328,
           0.33903131701091704,
           -0.18718484219619158,
           -0.2621430446280263,
           0.3220760193857884,
           -0.08427046623126258
          ],
          [
           0.006025751154069604,
           -0.18274172290672117,
           0.0006151650863897412,
           0.13981188531169106,
           0.17220876982804517,
           -0.3210130652332027,
           -0.22789044975610792,
           0.31004604059739277,
           -0.17220876982804517,
           -0.21056352377914278,
           -0.3806345434753767,
           -0.4657927104460395,
           1,
           -0.5224293380827663,
           1,
           -0.333402704896457,
           -0.4647198001961842,
           1,
           -0.3815932968077265,
           -0.46565849427066547,
           1,
           -0.38075433795294245,
           -0.5187332164827466,
           1,
           -0.3362982846984971,
           -0.4285039212787635,
           1,
           -0.415551893880319,
           -0.42533933333412005,
           1,
           -0.4186750789702281,
           -0.21863876616156266,
           0.03800394241917166,
           0.21827822340961614,
           -0.0021133998738822233,
           0.0010297293228975783,
           -0.2849166458500381,
           0.32136073231782275,
           -0.039061982110431215,
           -0.7635565582866174,
           -0.3748783625811951
          ],
          [
           -0.009211760356587549,
           -0.06062459069356379,
           0.11999886976430937,
           0.06326814139964838,
           -0.09633961826825559,
           0.03787990020728005,
           -0.16467355590159904,
           -0.15642521492470993,
           0.09633961826825559,
           0.10057130998574261,
           0.3131179268609463,
           -0.020492402500577954,
           -0.3362982846984971,
           -0.043910700525214064,
           -0.3362982846984971,
           0.3549307078927568,
           -0.0026421872822138376,
           -0.3362982846984971,
           0.2942328784069205,
           -0.03984991501391333,
           -0.3362982846984971,
           0.3333125623154421,
           -0.6306917657939353,
           -0.3362982846984971,
           1,
           0.006701250020442545,
           -0.3362982846984971,
           0.27807020363722595,
           0.00495543049870408,
           -0.3362982846984971,
           0.27935847892844207,
           -0.285241310295581,
           0.09577473766009809,
           0.2408235565292133,
           0.10125246802181254,
           0.11727230654466908,
           -0.11483871499570059,
           -0.08550850677032465,
           0.3242207719993758,
           0.3383042642201648,
           0.4328683684285198
          ],
          [
           0.0032674444881383704,
           0.049061697629495186,
           -0.12435692810797745,
           -0.10117591361448183,
           -0.12245547899852695,
           0.04771151266520775,
           0.12891588111511512,
           0.004912604988265538,
           0.12245547899852695,
           -0.0782996455466118,
           0.3040624179005031,
           0.06470665733452634,
           -0.4285039212787635,
           0.2576991250070113,
           -0.4285039212787635,
           0.10545284137355028,
           0.3166891639904631,
           -0.4285039212787635,
           0.040798532040264956,
           0.42071974916022903,
           -0.4285039212787635,
           -0.06795386778344824,
           0.34701599555377316,
           -0.4285039212787635,
           0.006701250020442545,
           1,
           -0.4285039212787635,
           -0.6437667127104625,
           0.5377730397498587,
           -0.4285039212787635,
           -0.17732813454781293,
           0.2954791429870141,
           -0.09317676318651999,
           -0.25520913958456676,
           -0.04416763907676325,
           -0.041031361263671504,
           0.09603303697422182,
           -0.024261007248864607,
           -0.24503868570619167,
           0.01695147216454861,
           -0.1971441811933481
          ],
          [
           0.006025751154069604,
           -0.18274172290672117,
           0.0006151650863897412,
           0.13981188531169106,
           0.17220876982804517,
           -0.3210130652332027,
           -0.22789044975610792,
           0.31004604059739277,
           -0.17220876982804517,
           -0.21056352377914278,
           -0.3806345434753767,
           -0.4657927104460395,
           1,
           -0.5224293380827663,
           1,
           -0.333402704896457,
           -0.4647198001961842,
           1,
           -0.3815932968077265,
           -0.46565849427066547,
           1,
           -0.38075433795294245,
           -0.5187332164827466,
           1,
           -0.3362982846984971,
           -0.4285039212787635,
           1,
           -0.415551893880319,
           -0.42533933333412005,
           1,
           -0.4186750789702281,
           -0.21863876616156266,
           0.03800394241917166,
           0.21827822340961614,
           -0.0021133998738822233,
           0.0010297293228975783,
           -0.2849166458500381,
           0.32136073231782275,
           -0.039061982110431215,
           -0.7635565582866174,
           -0.3748783625811951
          ],
          [
           -0.008392549998355633,
           0.1053776678428196,
           0.1246658005648968,
           -0.016557742951036198,
           -0.02257359179493519,
           0.22384098246008893,
           0.06322774611875473,
           -0.2675281328562756,
           0.022573591794935188,
           0.25715163510819916,
           0.01627372679457073,
           0.3293485259115254,
           -0.415551893880319,
           0.1830345989339524,
           -0.415551893880319,
           0.17620730704239565,
           0.07477581218873115,
           -0.415551893880319,
           0.2821064219717299,
           -0.02915400095643604,
           -0.415551893880319,
           0.3908740269195431,
           0.08999139229988345,
           -0.415551893880319,
           0.27807020363722595,
           -0.6437667127104625,
           -0.415551893880319,
           1,
           -0.18113533322001496,
           -0.415551893880319,
           0.5330938326942409,
           -0.11228242714591914,
           0.06161243382925978,
           0.0720490410206093,
           0.04625225164274569,
           0.040433080354261755,
           0.14462638547452714,
           -0.24774242360739093,
           0.27975608223589377,
           0.6296031609781186,
           0.515709076700807
          ],
          [
           0.005374329036311909,
           0.03420956058873309,
           -0.11752910944225665,
           -0.07819808202669813,
           -0.11225408873033375,
           0.059487769080054306,
           0.13084502938617007,
           0.01307605676809046,
           0.11225408873033375,
           -0.0804501027578153,
           0.29510661726278103,
           0.07064998669449263,
           -0.42533933333412005,
           0.2653036710804196,
           -0.42533933333412005,
           0.09416167701138893,
           0.30720048539707323,
           -0.42533933333412005,
           0.04796097848423509,
           0.4295445476186081,
           -0.42533933333412005,
           -0.0799193432714472,
           0.3459931591717508,
           -0.42533933333412005,
           0.00495543049870408,
           0.5377730397498587,
           -0.42533933333412005,
           -0.18113533322001496,
           1,
           -0.42533933333412005,
           -0.6438150242418448,
           0.30045652081397656,
           -0.09672577396413039,
           -0.2576249912275382,
           -0.0467052640611027,
           -0.0492765049697282,
           0.10257118616844516,
           -0.021034046310894505,
           -0.25222023689543394,
           0.01807510411034437,
           -0.2026046372358619
          ],
          [
           0.006025751154069604,
           -0.18274172290672117,
           0.0006151650863897412,
           0.13981188531169106,
           0.17220876982804517,
           -0.3210130652332027,
           -0.22789044975610792,
           0.31004604059739277,
           -0.17220876982804517,
           -0.21056352377914278,
           -0.3806345434753767,
           -0.4657927104460395,
           1,
           -0.5224293380827663,
           1,
           -0.333402704896457,
           -0.4647198001961842,
           1,
           -0.3815932968077265,
           -0.46565849427066547,
           1,
           -0.38075433795294245,
           -0.5187332164827466,
           1,
           -0.3362982846984971,
           -0.4285039212787635,
           1,
           -0.415551893880319,
           -0.42533933333412005,
           1,
           -0.4186750789702281,
           -0.21863876616156266,
           0.03800394241917166,
           0.21827822340961614,
           -0.0021133998738822233,
           0.0010297293228975783,
           -0.2849166458500381,
           0.32136073231782275,
           -0.039061982110431215,
           -0.7635565582866174,
           -0.3748783625811951
          ],
          [
           -0.010487356300499686,
           0.12017625118896011,
           0.11741185447194351,
           -0.039740962058925404,
           -0.03295889236478296,
           0.21171599176513312,
           0.06138154801518815,
           -0.27525622600611316,
           0.03295889236478296,
           0.25875149199378983,
           0.02569783199417058,
           0.32292269808483876,
           -0.4186750789702281,
           0.17548650825381457,
           -0.4186750789702281,
           0.18739833092625272,
           0.08465426824068802,
           -0.4186750789702281,
           0.274501201960493,
           -0.037315508234341724,
           -0.4186750789702281,
           0.40211053776620614,
           0.09139547530347826,
           -0.4186750789702281,
           0.27935847892844207,
           -0.17732813454781293,
           -0.4186750789702281,
           0.5330938326942409,
           -0.6438150242418448,
           -0.4186750789702281,
           1,
           -0.11663335681857676,
           0.06492603542902547,
           0.0739598441369921,
           0.04865217505038656,
           0.04857480053298277,
           0.13796637540689907,
           -0.25059546380835057,
           0.2861105877784701,
           0.6274288843898873,
           0.5198665359476685
          ],
          [
           -0.0033859456136262796,
           0.13836046440262936,
           -0.28086522610830583,
           -0.23172016612971874,
           -0.0007424302790417011,
           0.16909644687220246,
           0.40510291068797993,
           0.08674010596728214,
           0.0007424302790417001,
           -0.08820313233781159,
           -0.06550876072359825,
           0.24416415597397462,
           -0.21863876616156266,
           0.403255273689533,
           -0.21863876616156266,
           -0.2466788676313635,
           0.33879627049374006,
           -0.21863876616156266,
           -0.16417233309253518,
           0.39745402965013243,
           -0.21863876616156266,
           -0.2256620025394026,
           0.4391098285439591,
           -0.21863876616156266,
           -0.285241310295581,
           0.2954791429870141,
           -0.21863876616156266,
           -0.11228242714591914,
           0.30045652081397656,
           -0.21863876616156266,
           -0.11663335681857676,
           1,
           -0.5687442811987107,
           -0.6226334072449183,
           -0.1797068873575995,
           -0.2041449607569331,
           0.3316614848172629,
           0.004138055475923,
           -0.6455614232660596,
           0.060165327127736146,
           -0.4467758742884541
          ],
          [
           0.008025643075007296,
           -0.046262442927024604,
           0.08278330748147045,
           0.06836848043822162,
           -0.002790643098633068,
           -0.051391159173448574,
           -0.17782001834992608,
           0.0020978506739198588,
           0.0027906430986330373,
           -0.0037935880457823363,
           0.04679527357238784,
           -0.076324090894692,
           0.03800394241917166,
           -0.121903990041482,
           0.03800394241917166,
           0.10016245689105537,
           -0.11175479793647007,
           0.03800394241917166,
           0.08372237279772053,
           -0.12963895511138288,
           0.03800394241917166,
           0.10249519931671455,
           -0.1182617086805767,
           0.03800394241917166,
           0.09577473766009809,
           -0.09317676318651999,
           0.03800394241917166,
           0.06161243382925978,
           -0.09672577396413039,
           0.03800394241917166,
           0.06492603542902547,
           -0.5687442811987107,
           1,
           -0.2895095723414823,
           0.05745066212990877,
           0.06758941420686729,
           -0.10912981441493343,
           -0.00011622106193560245,
           0.20257047544942433,
           0.0049038394150229345,
           0.1705692867048988
          ],
          [
           -0.0036950508034764595,
           -0.11700001812505513,
           0.24809065453753587,
           0.20461344694775824,
           0.0035189075685092257,
           -0.14788875031014193,
           -0.3022534693496566,
           -0.10293688202926672,
           -0.0035189075685089083,
           0.10625270251960395,
           0.031714234510355516,
           -0.21152603536969214,
           0.21827822340961614,
           -0.35330004567349094,
           0.21827822340961614,
           0.19177339915203528,
           -0.287943533604371,
           0.21827822340961614,
           0.11139959504622358,
           -0.33919023519492847,
           0.21827822340961614,
           0.16509639131424095,
           -0.3984897987262164,
           0.21827822340961614,
           0.2408235565292133,
           -0.25520913958456676,
           0.21827822340961614,
           0.0720490410206093,
           -0.2576249912275382,
           0.21827822340961614,
           0.0739598441369921,
           -0.6226334072449183,
           -0.2895095723414823,
           1,
           0.15447149916965344,
           0.1732648524269204,
           -0.2821379770975611,
           -0.004704962197151649,
           0.5585326708194007,
           -0.07468085092684529,
           0.3580356159084055
          ],
          [
           -0.016023595160041378,
           -0.016158940862199146,
           0.11070636952476212,
           0.05202098094740329,
           0.00755621292514459,
           -0.016332203527892688,
           -0.11793667192853156,
           -0.07017770331025897,
           -0.007556212925144589,
           0.07552652675122472,
           0.025475536146245106,
           -0.022624012243866037,
           -0.0021133998738822233,
           -0.08432241177256201,
           -0.0021133998738822233,
           0.0951580427350095,
           -0.08159008505663891,
           -0.0021133998738822233,
           0.08700369093869247,
           -0.0777908059204601,
           -0.0021133998738822233,
           0.08311454613207714,
           -0.09017661798725884,
           -0.0021133998738822233,
           0.10125246802181254,
           -0.04416763907676325,
           -0.0021133998738822233,
           0.04625225164274569,
           -0.0467052640611027,
           -0.0021133998738822233,
           0.04865217505038656,
           -0.1797068873575995,
           0.05745066212990877,
           0.15447149916965344,
           1,
           -0.2782148074777716,
           -0.3767621373493346,
           -0.28868512421141257,
           0.2435104444384922,
           0.042812140557898816,
           0.18611944997289606
          ],
          [
           0.0012147794729686294,
           -0.0241353723603211,
           0.08202919645731585,
           0.06026700017637367,
           -0.007721160009098325,
           -0.013588829059283302,
           -0.13430175066263256,
           -0.06392145833871449,
           0.0077211600090983275,
           0.06004835777743914,
           0.05143757263283329,
           -0.05007665545044517,
           0.0010297293228975783,
           -0.10550969525221791,
           0.0010297293228975783,
           0.11572065517555083,
           -0.08782179736768794,
           0.0010297293228975783,
           0.0907847854525632,
           -0.10761821698475751,
           0.0010297293228975783,
           0.11155436356101248,
           -0.10730963427620328,
           0.0010297293228975783,
           0.11727230654466908,
           -0.041031361263671504,
           0.0010297293228975783,
           0.040433080354261755,
           -0.0492765049697282,
           0.0010297293228975783,
           0.04857480053298277,
           -0.2041449607569331,
           0.06758941420686729,
           0.1732648524269204,
           -0.2782148074777716,
           1,
           -0.3733222859365921,
           -0.28604941899078157,
           0.233005525012496,
           0.03055035807230956,
           0.1826633667788349
          ],
          [
           0.0007521807011949914,
           0.17171777869091615,
           -0.08385168936270106,
           -0.15064248847911435,
           0.0030618298454302066,
           0.20886475546714192,
           0.301918749011285,
           -0.08083556522609313,
           -0.0030618298454302066,
           0.08361817831666819,
           -0.10441759819553018,
           0.3364097780255705,
           -0.2849166458500381,
           0.3363640634929488,
           -0.2849166458500381,
           -0.11233777625406866,
           0.236946963871235,
           -0.2849166458500381,
           -0.0004077158725881331,
           0.23970498373584637,
           -0.2849166458500381,
           -0.003350773408872253,
           0.33903131701091704,
           -0.2849166458500381,
           -0.11483871499570059,
           0.09603303697422182,
           -0.2849166458500381,
           0.14462638547452714,
           0.10257118616844516,
           -0.2849166458500381,
           0.13796637540689907,
           0.3316614848172629,
           -0.10912981441493343,
           -0.2821379770975611,
           -0.3767621373493346,
           -0.3733222859365921,
           1,
           -0.3873718709062573,
           -0.20836250343948312,
           0.2716246710861189,
           -0.06043627878449335
          ],
          [
           0.013744173305345336,
           -0.15347749042895084,
           -0.09512485882292497,
           0.05907101281466968,
           -0.0033187895436075847,
           -0.2053980051888406,
           -0.09168283858843226,
           0.222605254379153,
           0.003318789543607618,
           -0.22720630042804055,
           0.041899281981820136,
           -0.30683412957623935,
           0.32136073231782275,
           -0.19171501561255763,
           0.32136073231782275,
           -0.08079805377721072,
           -0.09997516637631303,
           0.32136073231782275,
           -0.17416391693981773,
           -0.08742249237996844,
           0.32136073231782275,
           -0.18737348746355928,
           -0.18718484219619158,
           0.32136073231782275,
           -0.08550850677032465,
           -0.024261007248864607,
           0.32136073231782275,
           -0.24774242360739093,
           -0.021034046310894505,
           0.32136073231782275,
           -0.25059546380835057,
           0.004138055475923,
           -0.00011622106193560245,
           -0.004704962197151649,
           -0.28868512421141257,
           -0.28604941899078157,
           -0.3873718709062573,
           1,
           -0.23385205012387159,
           -0.37743731568410765,
           -0.2947083702754892
          ],
          [
           0.00510622261994955,
           0.016566877681808662,
           0.3796974611682682,
           0.15971233121691794,
           0.00844820673274314,
           0.0061524815982704735,
           -0.3522286701130738,
           -0.32308808987259535,
           -0.00844820673274314,
           0.331940555609175,
           0.01327408764927343,
           0.019720367686755506,
           -0.039061982110431215,
           -0.2637461471340514,
           -0.039061982110431215,
           0.3272027731682441,
           -0.31269380305203076,
           -0.039061982110431215,
           0.3602769889846693,
           -0.3127402234192639,
           -0.039061982110431215,
           0.36065286693247117,
           -0.2621430446280263,
           -0.039061982110431215,
           0.3242207719993758,
           -0.24503868570619167,
           -0.039061982110431215,
           0.27975608223589377,
           -0.25222023689543394,
           -0.039061982110431215,
           0.2861105877784701,
           -0.6455614232660596,
           0.20257047544942433,
           0.5585326708194007,
           0.2435104444384922,
           0.233005525012496,
           -0.20836250343948312,
           -0.23385205012387159,
           1,
           0.24789985628614847,
           0.8258804608852464
          ],
          [
           -0.014569323728666463,
           0.22017333857626337,
           0.0968479362564688,
           -0.11389023002193659,
           0.24739796321412494,
           0.35214996779595914,
           0.19335642223784563,
           -0.33831372903110696,
           -0.24739796321412494,
           0.49043396944000867,
           -0.1601893262044364,
           0.787065528472674,
           -0.7635565582866174,
           0.3608980557319581,
           -0.7635565582866174,
           0.2965941920005668,
           0.21075337001875705,
           -0.7635565582866174,
           0.44178009435947035,
           0.1718362532134267,
           -0.7635565582866174,
           0.48269204827330237,
           0.3220760193857884,
           -0.7635565582866174,
           0.3383042642201648,
           0.01695147216454861,
           -0.7635565582866174,
           0.6296031609781186,
           0.01807510411034437,
           -0.7635565582866174,
           0.6274288843898873,
           0.060165327127736146,
           0.0049038394150229345,
           -0.07468085092684529,
           0.042812140557898816,
           0.03055035807230956,
           0.2716246710861189,
           -0.37743731568410765,
           0.24789985628614847,
           1,
           0.6510648031856269
          ],
          [
           4.783870977345061e-05,
           0.10241060563801817,
           0.3190723625585756,
           0.06465324930083799,
           0.11300826111493893,
           0.15782978296862482,
           -0.19948408409395482,
           -0.3967653772151228,
           -0.11300826111493896,
           0.4690421358679648,
           -0.05218986637650994,
           0.3607687917499204,
           -0.3748783625811951,
           -0.0645149078943777,
           -0.3748783625811951,
           0.41261876926038354,
           -0.17763334951349558,
           -0.3748783625811951,
           0.5101002903810599,
           -0.18948522868296697,
           -0.3748783625811951,
           0.5228814863623661,
           -0.08427046623126258,
           -0.3748783625811951,
           0.4328683684285198,
           -0.1971441811933481,
           -0.3748783625811951,
           0.515709076700807,
           -0.2026046372358619,
           -0.3748783625811951,
           0.5198665359476685,
           -0.4467758742884541,
           0.1705692867048988,
           0.3580356159084055,
           0.18611944997289606,
           0.1826633667788349,
           -0.06043627878449335,
           -0.2947083702754892,
           0.8258804608852464,
           0.6510648031856269,
           1
          ]
         ]
        }
       ],
       "layout": {
        "autosize": false,
        "height": 720,
        "margin": {
         "b": 210,
         "l": 210,
         "r": 0,
         "t": 25
        },
        "template": {
         "data": {
          "bar": [
           {
            "error_x": {
             "color": "#2a3f5f"
            },
            "error_y": {
             "color": "#2a3f5f"
            },
            "marker": {
             "line": {
              "color": "#E5ECF6",
              "width": 0.5
             }
            },
            "type": "bar"
           }
          ],
          "barpolar": [
           {
            "marker": {
             "line": {
              "color": "#E5ECF6",
              "width": 0.5
             }
            },
            "type": "barpolar"
           }
          ],
          "carpet": [
           {
            "aaxis": {
             "endlinecolor": "#2a3f5f",
             "gridcolor": "white",
             "linecolor": "white",
             "minorgridcolor": "white",
             "startlinecolor": "#2a3f5f"
            },
            "baxis": {
             "endlinecolor": "#2a3f5f",
             "gridcolor": "white",
             "linecolor": "white",
             "minorgridcolor": "white",
             "startlinecolor": "#2a3f5f"
            },
            "type": "carpet"
           }
          ],
          "choropleth": [
           {
            "colorbar": {
             "outlinewidth": 0,
             "ticks": ""
            },
            "type": "choropleth"
           }
          ],
          "contour": [
           {
            "colorbar": {
             "outlinewidth": 0,
             "ticks": ""
            },
            "colorscale": [
             [
              0,
              "#0d0887"
             ],
             [
              0.1111111111111111,
              "#46039f"
             ],
             [
              0.2222222222222222,
              "#7201a8"
             ],
             [
              0.3333333333333333,
              "#9c179e"
             ],
             [
              0.4444444444444444,
              "#bd3786"
             ],
             [
              0.5555555555555556,
              "#d8576b"
             ],
             [
              0.6666666666666666,
              "#ed7953"
             ],
             [
              0.7777777777777778,
              "#fb9f3a"
             ],
             [
              0.8888888888888888,
              "#fdca26"
             ],
             [
              1,
              "#f0f921"
             ]
            ],
            "type": "contour"
           }
          ],
          "contourcarpet": [
           {
            "colorbar": {
             "outlinewidth": 0,
             "ticks": ""
            },
            "type": "contourcarpet"
           }
          ],
          "heatmap": [
           {
            "colorbar": {
             "outlinewidth": 0,
             "ticks": ""
            },
            "colorscale": [
             [
              0,
              "#0d0887"
             ],
             [
              0.1111111111111111,
              "#46039f"
             ],
             [
              0.2222222222222222,
              "#7201a8"
             ],
             [
              0.3333333333333333,
              "#9c179e"
             ],
             [
              0.4444444444444444,
              "#bd3786"
             ],
             [
              0.5555555555555556,
              "#d8576b"
             ],
             [
              0.6666666666666666,
              "#ed7953"
             ],
             [
              0.7777777777777778,
              "#fb9f3a"
             ],
             [
              0.8888888888888888,
              "#fdca26"
             ],
             [
              1,
              "#f0f921"
             ]
            ],
            "type": "heatmap"
           }
          ],
          "heatmapgl": [
           {
            "colorbar": {
             "outlinewidth": 0,
             "ticks": ""
            },
            "colorscale": [
             [
              0,
              "#0d0887"
             ],
             [
              0.1111111111111111,
              "#46039f"
             ],
             [
              0.2222222222222222,
              "#7201a8"
             ],
             [
              0.3333333333333333,
              "#9c179e"
             ],
             [
              0.4444444444444444,
              "#bd3786"
             ],
             [
              0.5555555555555556,
              "#d8576b"
             ],
             [
              0.6666666666666666,
              "#ed7953"
             ],
             [
              0.7777777777777778,
              "#fb9f3a"
             ],
             [
              0.8888888888888888,
              "#fdca26"
             ],
             [
              1,
              "#f0f921"
             ]
            ],
            "type": "heatmapgl"
           }
          ],
          "histogram": [
           {
            "marker": {
             "colorbar": {
              "outlinewidth": 0,
              "ticks": ""
             }
            },
            "type": "histogram"
           }
          ],
          "histogram2d": [
           {
            "colorbar": {
             "outlinewidth": 0,
             "ticks": ""
            },
            "colorscale": [
             [
              0,
              "#0d0887"
             ],
             [
              0.1111111111111111,
              "#46039f"
             ],
             [
              0.2222222222222222,
              "#7201a8"
             ],
             [
              0.3333333333333333,
              "#9c179e"
             ],
             [
              0.4444444444444444,
              "#bd3786"
             ],
             [
              0.5555555555555556,
              "#d8576b"
             ],
             [
              0.6666666666666666,
              "#ed7953"
             ],
             [
              0.7777777777777778,
              "#fb9f3a"
             ],
             [
              0.8888888888888888,
              "#fdca26"
             ],
             [
              1,
              "#f0f921"
             ]
            ],
            "type": "histogram2d"
           }
          ],
          "histogram2dcontour": [
           {
            "colorbar": {
             "outlinewidth": 0,
             "ticks": ""
            },
            "colorscale": [
             [
              0,
              "#0d0887"
             ],
             [
              0.1111111111111111,
              "#46039f"
             ],
             [
              0.2222222222222222,
              "#7201a8"
             ],
             [
              0.3333333333333333,
              "#9c179e"
             ],
             [
              0.4444444444444444,
              "#bd3786"
             ],
             [
              0.5555555555555556,
              "#d8576b"
             ],
             [
              0.6666666666666666,
              "#ed7953"
             ],
             [
              0.7777777777777778,
              "#fb9f3a"
             ],
             [
              0.8888888888888888,
              "#fdca26"
             ],
             [
              1,
              "#f0f921"
             ]
            ],
            "type": "histogram2dcontour"
           }
          ],
          "mesh3d": [
           {
            "colorbar": {
             "outlinewidth": 0,
             "ticks": ""
            },
            "type": "mesh3d"
           }
          ],
          "parcoords": [
           {
            "line": {
             "colorbar": {
              "outlinewidth": 0,
              "ticks": ""
             }
            },
            "type": "parcoords"
           }
          ],
          "pie": [
           {
            "automargin": true,
            "type": "pie"
           }
          ],
          "scatter": [
           {
            "marker": {
             "colorbar": {
              "outlinewidth": 0,
              "ticks": ""
             }
            },
            "type": "scatter"
           }
          ],
          "scatter3d": [
           {
            "line": {
             "colorbar": {
              "outlinewidth": 0,
              "ticks": ""
             }
            },
            "marker": {
             "colorbar": {
              "outlinewidth": 0,
              "ticks": ""
             }
            },
            "type": "scatter3d"
           }
          ],
          "scattercarpet": [
           {
            "marker": {
             "colorbar": {
              "outlinewidth": 0,
              "ticks": ""
             }
            },
            "type": "scattercarpet"
           }
          ],
          "scattergeo": [
           {
            "marker": {
             "colorbar": {
              "outlinewidth": 0,
              "ticks": ""
             }
            },
            "type": "scattergeo"
           }
          ],
          "scattergl": [
           {
            "marker": {
             "colorbar": {
              "outlinewidth": 0,
              "ticks": ""
             }
            },
            "type": "scattergl"
           }
          ],
          "scattermapbox": [
           {
            "marker": {
             "colorbar": {
              "outlinewidth": 0,
              "ticks": ""
             }
            },
            "type": "scattermapbox"
           }
          ],
          "scatterpolar": [
           {
            "marker": {
             "colorbar": {
              "outlinewidth": 0,
              "ticks": ""
             }
            },
            "type": "scatterpolar"
           }
          ],
          "scatterpolargl": [
           {
            "marker": {
             "colorbar": {
              "outlinewidth": 0,
              "ticks": ""
             }
            },
            "type": "scatterpolargl"
           }
          ],
          "scatterternary": [
           {
            "marker": {
             "colorbar": {
              "outlinewidth": 0,
              "ticks": ""
             }
            },
            "type": "scatterternary"
           }
          ],
          "surface": [
           {
            "colorbar": {
             "outlinewidth": 0,
             "ticks": ""
            },
            "colorscale": [
             [
              0,
              "#0d0887"
             ],
             [
              0.1111111111111111,
              "#46039f"
             ],
             [
              0.2222222222222222,
              "#7201a8"
             ],
             [
              0.3333333333333333,
              "#9c179e"
             ],
             [
              0.4444444444444444,
              "#bd3786"
             ],
             [
              0.5555555555555556,
              "#d8576b"
             ],
             [
              0.6666666666666666,
              "#ed7953"
             ],
             [
              0.7777777777777778,
              "#fb9f3a"
             ],
             [
              0.8888888888888888,
              "#fdca26"
             ],
             [
              1,
              "#f0f921"
             ]
            ],
            "type": "surface"
           }
          ],
          "table": [
           {
            "cells": {
             "fill": {
              "color": "#EBF0F8"
             },
             "line": {
              "color": "white"
             }
            },
            "header": {
             "fill": {
              "color": "#C8D4E3"
             },
             "line": {
              "color": "white"
             }
            },
            "type": "table"
           }
          ]
         },
         "layout": {
          "annotationdefaults": {
           "arrowcolor": "#2a3f5f",
           "arrowhead": 0,
           "arrowwidth": 1
          },
          "coloraxis": {
           "colorbar": {
            "outlinewidth": 0,
            "ticks": ""
           }
          },
          "colorscale": {
           "diverging": [
            [
             0,
             "#8e0152"
            ],
            [
             0.1,
             "#c51b7d"
            ],
            [
             0.2,
             "#de77ae"
            ],
            [
             0.3,
             "#f1b6da"
            ],
            [
             0.4,
             "#fde0ef"
            ],
            [
             0.5,
             "#f7f7f7"
            ],
            [
             0.6,
             "#e6f5d0"
            ],
            [
             0.7,
             "#b8e186"
            ],
            [
             0.8,
             "#7fbc41"
            ],
            [
             0.9,
             "#4d9221"
            ],
            [
             1,
             "#276419"
            ]
           ],
           "sequential": [
            [
             0,
             "#0d0887"
            ],
            [
             0.1111111111111111,
             "#46039f"
            ],
            [
             0.2222222222222222,
             "#7201a8"
            ],
            [
             0.3333333333333333,
             "#9c179e"
            ],
            [
             0.4444444444444444,
             "#bd3786"
            ],
            [
             0.5555555555555556,
             "#d8576b"
            ],
            [
             0.6666666666666666,
             "#ed7953"
            ],
            [
             0.7777777777777778,
             "#fb9f3a"
            ],
            [
             0.8888888888888888,
             "#fdca26"
            ],
            [
             1,
             "#f0f921"
            ]
           ],
           "sequentialminus": [
            [
             0,
             "#0d0887"
            ],
            [
             0.1111111111111111,
             "#46039f"
            ],
            [
             0.2222222222222222,
             "#7201a8"
            ],
            [
             0.3333333333333333,
             "#9c179e"
            ],
            [
             0.4444444444444444,
             "#bd3786"
            ],
            [
             0.5555555555555556,
             "#d8576b"
            ],
            [
             0.6666666666666666,
             "#ed7953"
            ],
            [
             0.7777777777777778,
             "#fb9f3a"
            ],
            [
             0.8888888888888888,
             "#fdca26"
            ],
            [
             1,
             "#f0f921"
            ]
           ]
          },
          "colorway": [
           "#636efa",
           "#EF553B",
           "#00cc96",
           "#ab63fa",
           "#FFA15A",
           "#19d3f3",
           "#FF6692",
           "#B6E880",
           "#FF97FF",
           "#FECB52"
          ],
          "font": {
           "color": "#2a3f5f"
          },
          "geo": {
           "bgcolor": "white",
           "lakecolor": "white",
           "landcolor": "#E5ECF6",
           "showlakes": true,
           "showland": true,
           "subunitcolor": "white"
          },
          "hoverlabel": {
           "align": "left"
          },
          "hovermode": "closest",
          "mapbox": {
           "style": "light"
          },
          "paper_bgcolor": "white",
          "plot_bgcolor": "#E5ECF6",
          "polar": {
           "angularaxis": {
            "gridcolor": "white",
            "linecolor": "white",
            "ticks": ""
           },
           "bgcolor": "#E5ECF6",
           "radialaxis": {
            "gridcolor": "white",
            "linecolor": "white",
            "ticks": ""
           }
          },
          "scene": {
           "xaxis": {
            "backgroundcolor": "#E5ECF6",
            "gridcolor": "white",
            "gridwidth": 2,
            "linecolor": "white",
            "showbackground": true,
            "ticks": "",
            "zerolinecolor": "white"
           },
           "yaxis": {
            "backgroundcolor": "#E5ECF6",
            "gridcolor": "white",
            "gridwidth": 2,
            "linecolor": "white",
            "showbackground": true,
            "ticks": "",
            "zerolinecolor": "white"
           },
           "zaxis": {
            "backgroundcolor": "#E5ECF6",
            "gridcolor": "white",
            "gridwidth": 2,
            "linecolor": "white",
            "showbackground": true,
            "ticks": "",
            "zerolinecolor": "white"
           }
          },
          "shapedefaults": {
           "line": {
            "color": "#2a3f5f"
           }
          },
          "ternary": {
           "aaxis": {
            "gridcolor": "white",
            "linecolor": "white",
            "ticks": ""
           },
           "baxis": {
            "gridcolor": "white",
            "linecolor": "white",
            "ticks": ""
           },
           "bgcolor": "#E5ECF6",
           "caxis": {
            "gridcolor": "white",
            "linecolor": "white",
            "ticks": ""
           }
          },
          "title": {
           "x": 0.05
          },
          "xaxis": {
           "automargin": true,
           "gridcolor": "white",
           "linecolor": "white",
           "ticks": "",
           "title": {
            "standoff": 15
           },
           "zerolinecolor": "white",
           "zerolinewidth": 2
          },
          "yaxis": {
           "automargin": true,
           "gridcolor": "white",
           "linecolor": "white",
           "ticks": "",
           "title": {
            "standoff": 15
           },
           "zerolinecolor": "white",
           "zerolinewidth": 2
          }
         }
        },
        "title": {
         "text": "Correlation Matrix for variables"
        },
        "width": 800,
        "xaxis": {
         "tickfont": {
          "size": 9
         }
        },
        "yaxis": {
         "tickfont": {
          "size": 9
         }
        }
       }
      },
      "text/html": [
       "<div>\n",
       "        \n",
       "        \n",
       "            <div id=\"948f2762-73cf-4410-84a8-3f40fbfc2e3a\" class=\"plotly-graph-div\" style=\"height:720px; width:800px;\"></div>\n",
       "            <script type=\"text/javascript\">\n",
       "                require([\"plotly\"], function(Plotly) {\n",
       "                    window.PLOTLYENV=window.PLOTLYENV || {};\n",
       "                    \n",
       "                if (document.getElementById(\"948f2762-73cf-4410-84a8-3f40fbfc2e3a\")) {\n",
       "                    Plotly.newPlot(\n",
       "                        '948f2762-73cf-4410-84a8-3f40fbfc2e3a',\n",
       "                        [{\"colorbar\": {\"title\": {\"side\": \"right\", \"text\": \"Pearson Correlation coefficient\"}}, \"colorscale\": [[0.0, \"#440154\"], [0.1111111111111111, \"#482878\"], [0.2222222222222222, \"#3e4989\"], [0.3333333333333333, \"#31688e\"], [0.4444444444444444, \"#26828e\"], [0.5555555555555556, \"#1f9e89\"], [0.6666666666666666, \"#35b779\"], [0.7777777777777778, \"#6ece58\"], [0.8888888888888888, \"#b5de2b\"], [1.0, \"#fde725\"]], \"type\": \"heatmap\", \"x\": [\"gender\", \"SeniorCitizen\", \"Partner\", \"Dependents\", \"PhoneService\", \"PaperlessBilling\", \"Churn\", \"MultipleLines_No\", \"MultipleLines_No phone service\", \"MultipleLines_Yes\", \"InternetService_DSL\", \"InternetService_Fiber optic\", \"InternetService_No\", \"OnlineSecurity_No\", \"OnlineSecurity_No internet service\", \"OnlineSecurity_Yes\", \"OnlineBackup_No\", \"OnlineBackup_No internet service\", \"OnlineBackup_Yes\", \"DeviceProtection_No\", \"DeviceProtection_No internet service\", \"DeviceProtection_Yes\", \"TechSupport_No\", \"TechSupport_No internet service\", \"TechSupport_Yes\", \"StreamingTV_No\", \"StreamingTV_No internet service\", \"StreamingTV_Yes\", \"StreamingMovies_No\", \"StreamingMovies_No internet service\", \"StreamingMovies_Yes\", \"Contract_Month-to-month\", \"Contract_One year\", \"Contract_Two year\", \"PaymentMethod_Bank transfer (automatic)\", \"PaymentMethod_Credit card (automatic)\", \"PaymentMethod_Electronic check\", \"PaymentMethod_Mailed check\", \"tenure\", \"MonthlyCharges\", \"TotalCharges\"], \"y\": [\"gender\", \"SeniorCitizen\", \"Partner\", \"Dependents\", \"PhoneService\", \"PaperlessBilling\", \"Churn\", \"MultipleLines_No\", \"MultipleLines_No phone service\", \"MultipleLines_Yes\", \"InternetService_DSL\", \"InternetService_Fiber optic\", \"InternetService_No\", \"OnlineSecurity_No\", \"OnlineSecurity_No internet service\", \"OnlineSecurity_Yes\", \"OnlineBackup_No\", \"OnlineBackup_No internet service\", \"OnlineBackup_Yes\", \"DeviceProtection_No\", \"DeviceProtection_No internet service\", \"DeviceProtection_Yes\", \"TechSupport_No\", \"TechSupport_No internet service\", \"TechSupport_Yes\", \"StreamingTV_No\", \"StreamingTV_No internet service\", \"StreamingTV_Yes\", \"StreamingMovies_No\", \"StreamingMovies_No internet service\", \"StreamingMovies_Yes\", \"Contract_Month-to-month\", \"Contract_One year\", \"Contract_Two year\", \"PaymentMethod_Bank transfer (automatic)\", \"PaymentMethod_Credit card (automatic)\", \"PaymentMethod_Electronic check\", \"PaymentMethod_Mailed check\", \"tenure\", \"MonthlyCharges\", \"TotalCharges\"], \"z\": [[1.0, -0.0018737116382603585, -0.001808079661789092, 0.010516611922734686, -0.006487672136207867, -0.011753691221221238, -0.008612095078997463, 0.004476122373779718, 0.006487672136207865, -0.00841365587151559, 0.006567778691102118, -0.011286442720116788, 0.006025751154069604, 0.01042908841920113, 0.006025751154069604, -0.017020796813958704, 0.008190988066357157, 0.006025751154069604, -0.01377318872900596, -0.002987541400969158, 0.006025751154069604, -0.0021045826513881854, 0.0033971478097872105, 0.006025751154069604, -0.009211760356587549, 0.0032674444881383704, 0.006025751154069604, -0.008392549998355633, 0.005374329036311909, 0.006025751154069604, -0.010487356300499686, -0.0033859456136262796, 0.008025643075007296, -0.0036950508034764595, -0.016023595160041378, 0.0012147794729686294, 0.0007521807011949914, 0.013744173305345336, 0.00510622261994955, -0.014569323728666463, 4.783870977345061e-05], [-0.0018737116382603585, 1.0, 0.016478657597413158, -0.21118508849394904, 0.008576401079278321, 0.15652955931114873, 0.15088932817647296, -0.13621309673895696, -0.008576401079278324, 0.14294817476275615, -0.10832221369857437, 0.25533777295512944, -0.18274172290672117, 0.18553213243210376, -0.18274172290672117, -0.03865270449719614, 0.08795164806617205, -0.18274172290672117, 0.06657213514513345, 0.09481048468667089, -0.18274172290672117, 0.05942849428692483, 0.20562007664086115, -0.18274172290672117, -0.06062459069356379, 0.049061697629495186, -0.18274172290672117, 0.1053776678428196, 0.03420956058873309, -0.18274172290672117, 0.12017625118896011, 0.13836046440262936, -0.046262442927024604, -0.11700001812505513, -0.016158940862199146, -0.0241353723603211, 0.17171777869091615, -0.15347749042895084, 0.016566877681808662, 0.22017333857626337, 0.10241060563801817], [-0.001808079661789092, 0.016478657597413158, 1.0, 0.4526762829294439, 0.01770566322397003, -0.014876622287889343, -0.15044754495916807, -0.12992895796527704, -0.01770566322397003, 0.14205707936226336, -0.0008509247739520219, 0.00030366541646410116, 0.0006151650863897412, -0.1299364400615401, 0.0006151650863897412, 0.14310622750263163, -0.13605809786455927, 0.0006151650863897412, 0.14149801947226973, -0.147692450221436, 0.0006151650863897412, 0.15378643563076652, -0.10944322601173453, 0.0006151650863897412, 0.11999886976430937, -0.12435692810797745, 0.0006151650863897412, 0.1246658005648968, -0.11752910944225665, 0.0006151650863897412, 0.11741185447194351, -0.28086522610830583, 0.08278330748147045, 0.24809065453753587, 0.11070636952476212, 0.08202919645731585, -0.08385168936270106, -0.09512485882292497, 0.3796974611682682, 0.0968479362564688, 0.3190723625585756], [0.010516611922734686, -0.21118508849394904, 0.4526762829294439, 1.0, -0.0017616785446833952, -0.11137722919362898, -0.16422140157973802, 0.023198487672255422, 0.0017616785446832332, -0.024525804414101075, 0.052010348064670545, -0.16581835875542186, 0.13981188531169106, -0.18843382069111725, 0.13981188531169106, 0.0809716602324878, -0.1387564851212686, 0.13981188531169106, 0.023671013010513185, -0.12941524522970857, 0.13981188531169106, 0.01396253565379059, -0.1726445096177079, 0.13981188531169106, 0.06326814139964838, -0.10117591361448183, 0.13981188531169106, -0.016557742951036198, -0.07819808202669813, 0.13981188531169106, -0.039740962058925404, -0.23172016612971874, 0.06836848043822162, 0.20461344694775824, 0.05202098094740329, 0.06026700017637367, -0.15064248847911435, 0.05907101281466968, 0.15971233121691794, -0.11389023002193659, 0.06465324930083799], [-0.006487672136207867, 0.008576401079278321, 0.01770566322397003, -0.0017616785446833952, 1.0, 0.016504805732567716, 0.011941980029002547, 0.31543109424025745, -1.0, 0.27968999474292017, -0.452425489961283, 0.2899989345730554, 0.17220876982804517, -0.05787969996011212, 0.17220876982804517, -0.09289270011220115, -0.09286669818148435, 0.17220876982804517, -0.052312242947634764, -0.07477580293540653, 0.17220876982804517, -0.07122688671746603, -0.05444676293913726, 0.17220876982804517, -0.09633961826825559, -0.12245547899852695, 0.17220876982804517, -0.02257359179493519, -0.11225408873033375, 0.17220876982804517, -0.03295889236478296, -0.0007424302790417011, -0.002790643098633068, 0.0035189075685092257, 0.00755621292514459, -0.007721160009098325, 0.0030618298454302066, -0.0033187895436075847, 0.00844820673274314, 0.24739796321412494, 0.11300826111493893], [-0.011753691221221238, 0.15652955931114873, -0.014876622287889343, -0.11137722919362898, 0.016504805732567716, 1.0, 0.19182533166644541, -0.15186361470687518, -0.0165048057325677, 0.16353017421289867, -0.0631210849300296, 0.32685324851959013, -0.3210130652332027, 0.26779314581033625, -0.3210130652332027, -0.0036358971484736916, 0.1451204561734168, -0.3210130652332027, 0.12673537300695792, 0.16712125287116622, -0.3210130652332027, 0.10379680498154323, 0.23013613487107135, -0.3210130652332027, 0.03787990020728005, 0.04771151266520775, -0.3210130652332027, 0.22384098246008893, 0.059487769080054306, -0.3210130652332027, 0.21171599176513312, 0.16909644687220246, -0.051391159173448574, -0.14788875031014193, -0.016332203527892688, -0.013588829059283302, 0.20886475546714192, -0.2053980051888406, 0.0061524815982704735, 0.35214996779595914, 0.15782978296862482], [-0.008612095078997463, 0.15088932817647296, -0.15044754495916807, -0.16422140157973802, 0.011941980029002547, 0.19182533166644541, 1.0, -0.03256857845018864, -0.011941980029002547, 0.04010212769982239, -0.12421382390258645, 0.3080197449448075, -0.22789044975610792, 0.34263679985111534, -0.22789044975610792, -0.17122629194853634, 0.26800518096235426, -0.22789044975610792, -0.08225486893813826, 0.25248136059565807, -0.22789044975610792, -0.06615979128028415, 0.3372807277351956, -0.22789044975610792, -0.16467355590159904, 0.12891588111511512, -0.22789044975610792, 0.06322774611875473, 0.13084502938617007, -0.22789044975610792, 0.06138154801518815, 0.40510291068797993, -0.17782001834992608, -0.3022534693496566, -0.11793667192853156, -0.13430175066263256, 0.301918749011285, -0.09168283858843226, -0.3522286701130738, 0.19335642223784563, -0.19948408409395482], [0.004476122373779718, -0.13621309673895696, -0.12992895796527704, 0.023198487672255422, 0.31543109424025745, -0.15186361470687518, -0.03256857845018864, 1.0, -0.31543109424025745, -0.8228533739769971, -0.07017933361588229, -0.19019164164266983, 0.31004604059739277, -0.11803967172970328, 0.31004604059739277, -0.1519504841683278, -0.036276537396139424, 0.31004604059739277, -0.23085237242152853, -0.026745679380691646, 0.31004604059739277, -0.2409597698249054, -0.1134822345257722, 0.31004604059739277, -0.15642521492470993, 0.004912604988265538, 0.31004604059739277, -0.2675281328562756, 0.01307605676809046, 0.31004604059739277, -0.27525622600611316, 0.08674010596728214, 0.0020978506739198588, -0.10293688202926672, -0.07017770331025897, -0.06392145833871449, -0.08083556522609313, 0.222605254379153, -0.32308808987259535, -0.33831372903110696, -0.3967653772151228], [0.006487672136207865, -0.008576401079278324, -0.01770566322397003, 0.0017616785446832332, -1.0, -0.0165048057325677, -0.011941980029002547, -0.31543109424025745, 1.0, -0.27968999474292017, 0.452425489961283, -0.2899989345730554, -0.17220876982804517, 0.05787969996011212, -0.17220876982804517, 0.09289270011220115, 0.09286669818148435, -0.17220876982804517, 0.052312242947634764, 0.07477580293540653, -0.17220876982804517, 0.07122688671746603, 0.054446762939137264, -0.17220876982804517, 0.09633961826825559, 0.12245547899852695, -0.17220876982804517, 0.022573591794935188, 0.11225408873033375, -0.17220876982804517, 0.03295889236478296, 0.0007424302790417001, 0.0027906430986330373, -0.0035189075685089083, -0.007556212925144589, 0.0077211600090983275, -0.0030618298454302066, 0.003318789543607618, -0.00844820673274314, -0.24739796321412494, -0.11300826111493896], [-0.00841365587151559, 0.14294817476275615, 0.14205707936226336, -0.024525804414101075, 0.27968999474292017, 0.16353017421289867, 0.04010212769982239, -0.8228533739769971, -0.27968999474292017, 1.0, -0.1999202093533399, 0.3660832496117892, -0.21056352377914278, 0.08476581836042205, -0.21056352377914278, 0.09810813969724957, -0.018908397931387724, -0.21056352377914278, 0.20223701632048843, -0.017717886378631025, -0.21056352377914278, 0.20113653254496486, 0.08221059829549753, -0.21056352377914278, 0.10057130998574261, -0.0782996455466118, -0.21056352377914278, 0.25715163510819916, -0.0804501027578153, -0.21056352377914278, 0.25875149199378983, -0.08820313233781159, -0.0037935880457823363, 0.10625270251960395, 0.07552652675122472, 0.06004835777743914, 0.08361817831666819, -0.22720630042804055, 0.331940555609175, 0.49043396944000867, 0.4690421358679648], [0.006567778691102118, -0.10832221369857437, -0.0008509247739520219, 0.052010348064670545, -0.452425489961283, -0.0631210849300296, -0.12421382390258645, -0.07017933361588229, 0.452425489961283, -0.1999202093533399, 1.0, -0.6409871702805158, -0.3806345434753767, 0.023065732064935042, -0.3806345434753767, 0.3212689079448847, 0.1647830436719273, -0.3806345434753767, 0.15788439397403897, 0.1759418306369677, -0.3806345434753767, 0.1462906413147331, 0.0294017846056387, -0.3806345434753767, 0.3131179268609463, 0.3040624179005031, -0.3806345434753767, 0.01627372679457073, 0.29510661726278103, -0.3806345434753767, 0.02569783199417058, -0.06550876072359825, 0.04679527357238784, 0.031714234510355516, 0.025475536146245106, 0.05143757263283329, -0.10441759819553018, 0.041899281981820136, 0.01327408764927343, -0.1601893262044364, -0.05218986637650994], [-0.011286442720116788, 0.25533777295512944, 0.00030366541646410116, -0.16581835875542186, 0.2899989345730554, 0.32685324851959013, 0.3080197449448075, -0.19019164164266983, -0.2899989345730554, 0.3660832496117892, -0.6409871702805158, 1.0, -0.4657927104460395, 0.41156075490341365, -0.4657927104460395, -0.03069571096235206, 0.22804703338286397, -0.4657927104460395, 0.16565089083393386, 0.21814804662159046, -0.4657927104460395, 0.17604889095153575, 0.40242972350684364, -0.4657927104460395, -0.020492402500577954, 0.06470665733452634, -0.4657927104460395, 0.3293485259115254, 0.07064998669449263, -0.4657927104460395, 0.32292269808483876, 0.24416415597397462, -0.076324090894692, -0.21152603536969214, -0.022624012243866037, -0.05007665545044517, 0.3364097780255705, -0.30683412957623935, 0.019720367686755506, 0.787065528472674, 0.3607687917499204], [0.006025751154069604, -0.18274172290672117, 0.0006151650863897412, 0.13981188531169106, 0.17220876982804517, -0.3210130652332027, -0.22789044975610792, 0.31004604059739277, -0.17220876982804517, -0.21056352377914278, -0.3806345434753767, -0.4657927104460395, 1.0, -0.5224293380827663, 1.0, -0.333402704896457, -0.4647198001961842, 1.0, -0.3815932968077265, -0.46565849427066547, 1.0, -0.38075433795294245, -0.5187332164827466, 1.0, -0.3362982846984971, -0.4285039212787635, 1.0, -0.415551893880319, -0.42533933333412005, 1.0, -0.4186750789702281, -0.21863876616156266, 0.03800394241917166, 0.21827822340961614, -0.0021133998738822233, 0.0010297293228975783, -0.2849166458500381, 0.32136073231782275, -0.039061982110431215, -0.7635565582866174, -0.3748783625811951], [0.01042908841920113, 0.18553213243210376, -0.1299364400615401, -0.18843382069111725, -0.05787969996011212, 0.26779314581033625, 0.34263679985111534, -0.11803967172970328, 0.05787969996011212, 0.08476581836042205, 0.023065732064935042, 0.41156075490341365, -0.5224293380827663, 1.0, -0.5224293380827663, -0.6297165782520794, 0.3784675418700155, -0.5224293380827663, 0.057714565735976324, 0.3718077741863385, -0.5224293380827663, 0.06461530560083964, 0.4703593138247001, -0.5224293380827663, -0.043910700525214064, 0.2576991250070113, -0.5224293380827663, 0.1830345989339524, 0.2653036710804196, -0.5224293380827663, 0.17548650825381457, 0.403255273689533, -0.121903990041482, -0.35330004567349094, -0.08432241177256201, -0.10550969525221791, 0.3363640634929488, -0.19171501561255763, -0.2637461471340514, 0.3608980557319581, -0.0645149078943777], [0.006025751154069604, -0.18274172290672117, 0.0006151650863897412, 0.13981188531169106, 0.17220876982804517, -0.3210130652332027, -0.22789044975610792, 0.31004604059739277, -0.17220876982804517, -0.21056352377914278, -0.3806345434753767, -0.4657927104460395, 1.0, -0.5224293380827663, 1.0, -0.333402704896457, -0.4647198001961842, 1.0, -0.3815932968077265, -0.46565849427066547, 1.0, -0.38075433795294245, -0.5187332164827466, 1.0, -0.3362982846984971, -0.4285039212787635, 1.0, -0.415551893880319, -0.42533933333412005, 1.0, -0.4186750789702281, -0.21863876616156266, 0.03800394241917166, 0.21827822340961614, -0.0021133998738822233, 0.0010297293228975783, -0.2849166458500381, 0.32136073231782275, -0.039061982110431215, -0.7635565582866174, -0.3748783625811951], [-0.017020796813958704, -0.03865270449719614, 0.14310622750263163, 0.0809716602324878, -0.09289270011220115, -0.0036358971484736916, -0.17122629194853634, -0.1519504841683278, 0.09289270011220115, 0.09810813969724957, 0.3212689079448847, -0.03069571096235206, -0.333402704896457, -0.6297165782520794, -0.333402704896457, 1.0, 0.004916961154575785, -0.333402704896457, 0.28383223353270814, 0.013135642952553143, -0.333402704896457, 0.2754379787437894, -0.047476707861269014, -0.333402704896457, 0.3549307078927568, 0.10545284137355028, -0.333402704896457, 0.17620730704239565, 0.09416167701138893, -0.333402704896457, 0.18739833092625272, -0.2466788676313635, 0.10016245689105537, 0.19177339915203528, 0.0951580427350095, 0.11572065517555083, -0.11233777625406866, -0.08079805377721072, 0.3272027731682441, 0.2965941920005668, 0.41261876926038354], [0.008190988066357157, 0.08795164806617205, -0.13605809786455927, -0.1387564851212686, -0.09286669818148435, 0.1451204561734168, 0.26800518096235426, -0.036276537396139424, 0.09286669818148435, -0.018908397931387724, 0.1647830436719273, 0.22804703338286397, -0.4647198001961842, 0.3784675418700155, -0.4647198001961842, 0.004916961154575785, 1.0, -0.4647198001961842, -0.6411215340096442, 0.36148772590561074, -0.4647198001961842, 0.02534646925562355, 0.38534099035575453, -0.4647198001961842, -0.0026421872822138376, 0.3166891639904631, -0.4647198001961842, 0.07477581218873115, 0.30720048539707323, -0.4647198001961842, 0.08465426824068802, 0.33879627049374006, -0.11175479793647007, -0.287943533604371, -0.08159008505663891, -0.08782179736768794, 0.236946963871235, -0.09997516637631303, -0.31269380305203076, 0.21075337001875705, -0.17763334951349558], [0.006025751154069604, -0.18274172290672117, 0.0006151650863897412, 0.13981188531169106, 0.17220876982804517, -0.3210130652332027, -0.22789044975610792, 0.31004604059739277, -0.17220876982804517, -0.21056352377914278, -0.3806345434753767, -0.4657927104460395, 1.0, -0.5224293380827663, 1.0, -0.333402704896457, -0.4647198001961842, 1.0, -0.3815932968077265, -0.46565849427066547, 1.0, -0.38075433795294245, -0.5187332164827466, 1.0, -0.3362982846984971, -0.4285039212787635, 1.0, -0.415551893880319, -0.42533933333412005, 1.0, -0.4186750789702281, -0.21863876616156266, 0.03800394241917166, 0.21827822340961614, -0.0021133998738822233, 0.0010297293228975783, -0.2849166458500381, 0.32136073231782275, -0.039061982110431215, -0.7635565582866174, -0.3748783625811951], [-0.01377318872900596, 0.06657213514513345, 0.14149801947226973, 0.023671013010513185, -0.052312242947634764, 0.12673537300695792, -0.08225486893813826, -0.23085237242152853, 0.052312242947634764, 0.20223701632048843, 0.15788439397403897, 0.16565089083393386, -0.3815932968077265, 0.057714565735976324, -0.3815932968077265, 0.28383223353270814, -0.6411215340096442, -0.3815932968077265, 1.0, 0.026235683743165893, -0.3815932968077265, 0.3035462090113026, 0.047335882351172774, -0.3815932968077265, 0.2942328784069205, 0.040798532040264956, -0.3815932968077265, 0.2821064219717299, 0.04796097848423509, -0.3815932968077265, 0.274501201960493, -0.16417233309253518, 0.08372237279772053, 0.11139959504622358, 0.08700369093869247, 0.0907847854525632, -0.0004077158725881331, -0.17416391693981773, 0.3602769889846693, 0.44178009435947035, 0.5101002903810599], [-0.002987541400969158, 0.09481048468667089, -0.147692450221436, -0.12941524522970857, -0.07477580293540653, 0.16712125287116622, 0.25248136059565807, -0.026745679380691646, 0.07477580293540653, -0.017717886378631025, 0.1759418306369677, 0.21814804662159046, -0.46565849427066547, 0.3718077741863385, -0.46565849427066547, 0.013135642952553143, 0.36148772590561074, -0.46565849427066547, 0.026235683743165893, 1.0, -0.46565849427066547, -0.6410041479023251, 0.4198920913161316, -0.46565849427066547, -0.03984991501391333, 0.42071974916022903, -0.46565849427066547, -0.02915400095643604, 0.4295445476186081, -0.46565849427066547, -0.037315508234341724, 0.39745402965013243, -0.12963895511138288, -0.33919023519492847, -0.0777908059204601, -0.10761821698475751, 0.23970498373584637, -0.08742249237996844, -0.3127402234192639, 0.1718362532134267, -0.18948522868296697], [0.006025751154069604, -0.18274172290672117, 0.0006151650863897412, 0.13981188531169106, 0.17220876982804517, -0.3210130652332027, -0.22789044975610792, 0.31004604059739277, -0.17220876982804517, -0.21056352377914278, -0.3806345434753767, -0.4657927104460395, 1.0, -0.5224293380827663, 1.0, -0.333402704896457, -0.4647198001961842, 1.0, -0.3815932968077265, -0.46565849427066547, 1.0, -0.38075433795294245, -0.5187332164827466, 1.0, -0.3362982846984971, -0.4285039212787635, 1.0, -0.415551893880319, -0.42533933333412005, 1.0, -0.4186750789702281, -0.21863876616156266, 0.03800394241917166, 0.21827822340961614, -0.0021133998738822233, 0.0010297293228975783, -0.2849166458500381, 0.32136073231782275, -0.039061982110431215, -0.7635565582866174, -0.3748783625811951], [-0.0021045826513881854, 0.05942849428692483, 0.15378643563076652, 0.01396253565379059, -0.07122688671746603, 0.10379680498154323, -0.06615979128028415, -0.2409597698249054, 0.07122688671746603, 0.20113653254496486, 0.1462906413147331, 0.17604889095153575, -0.38075433795294245, 0.06461530560083964, -0.38075433795294245, 0.2754379787437894, 0.02534646925562355, -0.38075433795294245, 0.3035462090113026, -0.6410041479023251, -0.38075433795294245, 1.0, 0.011167583362492491, -0.38075433795294245, 0.3333125623154421, -0.06795386778344824, -0.38075433795294245, 0.3908740269195431, -0.0799193432714472, -0.38075433795294245, 0.40211053776620614, -0.2256620025394026, 0.10249519931671455, 0.16509639131424095, 0.08311454613207714, 0.11155436356101248, -0.003350773408872253, -0.18737348746355928, 0.36065286693247117, 0.48269204827330237, 0.5228814863623661], [0.0033971478097872105, 0.20562007664086115, -0.10944322601173453, -0.1726445096177079, -0.05444676293913726, 0.23013613487107135, 0.3372807277351956, -0.1134822345257722, 0.054446762939137264, 0.08221059829549753, 0.0294017846056387, 0.40242972350684364, -0.5187332164827466, 0.4703593138247001, -0.5187332164827466, -0.047476707861269014, 0.38534099035575453, -0.5187332164827466, 0.047335882351172774, 0.4198920913161316, -0.5187332164827466, 0.011167583362492491, 1.0, -0.5187332164827466, -0.6306917657939353, 0.34701599555377316, -0.5187332164827466, 0.08999139229988345, 0.3459931591717508, -0.5187332164827466, 0.09139547530347826, 0.4391098285439591, -0.1182617086805767, -0.3984897987262164, -0.09017661798725884, -0.10730963427620328, 0.33903131701091704, -0.18718484219619158, -0.2621430446280263, 0.3220760193857884, -0.08427046623126258], [0.006025751154069604, -0.18274172290672117, 0.0006151650863897412, 0.13981188531169106, 0.17220876982804517, -0.3210130652332027, -0.22789044975610792, 0.31004604059739277, -0.17220876982804517, -0.21056352377914278, -0.3806345434753767, -0.4657927104460395, 1.0, -0.5224293380827663, 1.0, -0.333402704896457, -0.4647198001961842, 1.0, -0.3815932968077265, -0.46565849427066547, 1.0, -0.38075433795294245, -0.5187332164827466, 1.0, -0.3362982846984971, -0.4285039212787635, 1.0, -0.415551893880319, -0.42533933333412005, 1.0, -0.4186750789702281, -0.21863876616156266, 0.03800394241917166, 0.21827822340961614, -0.0021133998738822233, 0.0010297293228975783, -0.2849166458500381, 0.32136073231782275, -0.039061982110431215, -0.7635565582866174, -0.3748783625811951], [-0.009211760356587549, -0.06062459069356379, 0.11999886976430937, 0.06326814139964838, -0.09633961826825559, 0.03787990020728005, -0.16467355590159904, -0.15642521492470993, 0.09633961826825559, 0.10057130998574261, 0.3131179268609463, -0.020492402500577954, -0.3362982846984971, -0.043910700525214064, -0.3362982846984971, 0.3549307078927568, -0.0026421872822138376, -0.3362982846984971, 0.2942328784069205, -0.03984991501391333, -0.3362982846984971, 0.3333125623154421, -0.6306917657939353, -0.3362982846984971, 1.0, 0.006701250020442545, -0.3362982846984971, 0.27807020363722595, 0.00495543049870408, -0.3362982846984971, 0.27935847892844207, -0.285241310295581, 0.09577473766009809, 0.2408235565292133, 0.10125246802181254, 0.11727230654466908, -0.11483871499570059, -0.08550850677032465, 0.3242207719993758, 0.3383042642201648, 0.4328683684285198], [0.0032674444881383704, 0.049061697629495186, -0.12435692810797745, -0.10117591361448183, -0.12245547899852695, 0.04771151266520775, 0.12891588111511512, 0.004912604988265538, 0.12245547899852695, -0.0782996455466118, 0.3040624179005031, 0.06470665733452634, -0.4285039212787635, 0.2576991250070113, -0.4285039212787635, 0.10545284137355028, 0.3166891639904631, -0.4285039212787635, 0.040798532040264956, 0.42071974916022903, -0.4285039212787635, -0.06795386778344824, 0.34701599555377316, -0.4285039212787635, 0.006701250020442545, 1.0, -0.4285039212787635, -0.6437667127104625, 0.5377730397498587, -0.4285039212787635, -0.17732813454781293, 0.2954791429870141, -0.09317676318651999, -0.25520913958456676, -0.04416763907676325, -0.041031361263671504, 0.09603303697422182, -0.024261007248864607, -0.24503868570619167, 0.01695147216454861, -0.1971441811933481], [0.006025751154069604, -0.18274172290672117, 0.0006151650863897412, 0.13981188531169106, 0.17220876982804517, -0.3210130652332027, -0.22789044975610792, 0.31004604059739277, -0.17220876982804517, -0.21056352377914278, -0.3806345434753767, -0.4657927104460395, 1.0, -0.5224293380827663, 1.0, -0.333402704896457, -0.4647198001961842, 1.0, -0.3815932968077265, -0.46565849427066547, 1.0, -0.38075433795294245, -0.5187332164827466, 1.0, -0.3362982846984971, -0.4285039212787635, 1.0, -0.415551893880319, -0.42533933333412005, 1.0, -0.4186750789702281, -0.21863876616156266, 0.03800394241917166, 0.21827822340961614, -0.0021133998738822233, 0.0010297293228975783, -0.2849166458500381, 0.32136073231782275, -0.039061982110431215, -0.7635565582866174, -0.3748783625811951], [-0.008392549998355633, 0.1053776678428196, 0.1246658005648968, -0.016557742951036198, -0.02257359179493519, 0.22384098246008893, 0.06322774611875473, -0.2675281328562756, 0.022573591794935188, 0.25715163510819916, 0.01627372679457073, 0.3293485259115254, -0.415551893880319, 0.1830345989339524, -0.415551893880319, 0.17620730704239565, 0.07477581218873115, -0.415551893880319, 0.2821064219717299, -0.02915400095643604, -0.415551893880319, 0.3908740269195431, 0.08999139229988345, -0.415551893880319, 0.27807020363722595, -0.6437667127104625, -0.415551893880319, 1.0, -0.18113533322001496, -0.415551893880319, 0.5330938326942409, -0.11228242714591914, 0.06161243382925978, 0.0720490410206093, 0.04625225164274569, 0.040433080354261755, 0.14462638547452714, -0.24774242360739093, 0.27975608223589377, 0.6296031609781186, 0.515709076700807], [0.005374329036311909, 0.03420956058873309, -0.11752910944225665, -0.07819808202669813, -0.11225408873033375, 0.059487769080054306, 0.13084502938617007, 0.01307605676809046, 0.11225408873033375, -0.0804501027578153, 0.29510661726278103, 0.07064998669449263, -0.42533933333412005, 0.2653036710804196, -0.42533933333412005, 0.09416167701138893, 0.30720048539707323, -0.42533933333412005, 0.04796097848423509, 0.4295445476186081, -0.42533933333412005, -0.0799193432714472, 0.3459931591717508, -0.42533933333412005, 0.00495543049870408, 0.5377730397498587, -0.42533933333412005, -0.18113533322001496, 1.0, -0.42533933333412005, -0.6438150242418448, 0.30045652081397656, -0.09672577396413039, -0.2576249912275382, -0.0467052640611027, -0.0492765049697282, 0.10257118616844516, -0.021034046310894505, -0.25222023689543394, 0.01807510411034437, -0.2026046372358619], [0.006025751154069604, -0.18274172290672117, 0.0006151650863897412, 0.13981188531169106, 0.17220876982804517, -0.3210130652332027, -0.22789044975610792, 0.31004604059739277, -0.17220876982804517, -0.21056352377914278, -0.3806345434753767, -0.4657927104460395, 1.0, -0.5224293380827663, 1.0, -0.333402704896457, -0.4647198001961842, 1.0, -0.3815932968077265, -0.46565849427066547, 1.0, -0.38075433795294245, -0.5187332164827466, 1.0, -0.3362982846984971, -0.4285039212787635, 1.0, -0.415551893880319, -0.42533933333412005, 1.0, -0.4186750789702281, -0.21863876616156266, 0.03800394241917166, 0.21827822340961614, -0.0021133998738822233, 0.0010297293228975783, -0.2849166458500381, 0.32136073231782275, -0.039061982110431215, -0.7635565582866174, -0.3748783625811951], [-0.010487356300499686, 0.12017625118896011, 0.11741185447194351, -0.039740962058925404, -0.03295889236478296, 0.21171599176513312, 0.06138154801518815, -0.27525622600611316, 0.03295889236478296, 0.25875149199378983, 0.02569783199417058, 0.32292269808483876, -0.4186750789702281, 0.17548650825381457, -0.4186750789702281, 0.18739833092625272, 0.08465426824068802, -0.4186750789702281, 0.274501201960493, -0.037315508234341724, -0.4186750789702281, 0.40211053776620614, 0.09139547530347826, -0.4186750789702281, 0.27935847892844207, -0.17732813454781293, -0.4186750789702281, 0.5330938326942409, -0.6438150242418448, -0.4186750789702281, 1.0, -0.11663335681857676, 0.06492603542902547, 0.0739598441369921, 0.04865217505038656, 0.04857480053298277, 0.13796637540689907, -0.25059546380835057, 0.2861105877784701, 0.6274288843898873, 0.5198665359476685], [-0.0033859456136262796, 0.13836046440262936, -0.28086522610830583, -0.23172016612971874, -0.0007424302790417011, 0.16909644687220246, 0.40510291068797993, 0.08674010596728214, 0.0007424302790417001, -0.08820313233781159, -0.06550876072359825, 0.24416415597397462, -0.21863876616156266, 0.403255273689533, -0.21863876616156266, -0.2466788676313635, 0.33879627049374006, -0.21863876616156266, -0.16417233309253518, 0.39745402965013243, -0.21863876616156266, -0.2256620025394026, 0.4391098285439591, -0.21863876616156266, -0.285241310295581, 0.2954791429870141, -0.21863876616156266, -0.11228242714591914, 0.30045652081397656, -0.21863876616156266, -0.11663335681857676, 1.0, -0.5687442811987107, -0.6226334072449183, -0.1797068873575995, -0.2041449607569331, 0.3316614848172629, 0.004138055475923, -0.6455614232660596, 0.060165327127736146, -0.4467758742884541], [0.008025643075007296, -0.046262442927024604, 0.08278330748147045, 0.06836848043822162, -0.002790643098633068, -0.051391159173448574, -0.17782001834992608, 0.0020978506739198588, 0.0027906430986330373, -0.0037935880457823363, 0.04679527357238784, -0.076324090894692, 0.03800394241917166, -0.121903990041482, 0.03800394241917166, 0.10016245689105537, -0.11175479793647007, 0.03800394241917166, 0.08372237279772053, -0.12963895511138288, 0.03800394241917166, 0.10249519931671455, -0.1182617086805767, 0.03800394241917166, 0.09577473766009809, -0.09317676318651999, 0.03800394241917166, 0.06161243382925978, -0.09672577396413039, 0.03800394241917166, 0.06492603542902547, -0.5687442811987107, 1.0, -0.2895095723414823, 0.05745066212990877, 0.06758941420686729, -0.10912981441493343, -0.00011622106193560245, 0.20257047544942433, 0.0049038394150229345, 0.1705692867048988], [-0.0036950508034764595, -0.11700001812505513, 0.24809065453753587, 0.20461344694775824, 0.0035189075685092257, -0.14788875031014193, -0.3022534693496566, -0.10293688202926672, -0.0035189075685089083, 0.10625270251960395, 0.031714234510355516, -0.21152603536969214, 0.21827822340961614, -0.35330004567349094, 0.21827822340961614, 0.19177339915203528, -0.287943533604371, 0.21827822340961614, 0.11139959504622358, -0.33919023519492847, 0.21827822340961614, 0.16509639131424095, -0.3984897987262164, 0.21827822340961614, 0.2408235565292133, -0.25520913958456676, 0.21827822340961614, 0.0720490410206093, -0.2576249912275382, 0.21827822340961614, 0.0739598441369921, -0.6226334072449183, -0.2895095723414823, 1.0, 0.15447149916965344, 0.1732648524269204, -0.2821379770975611, -0.004704962197151649, 0.5585326708194007, -0.07468085092684529, 0.3580356159084055], [-0.016023595160041378, -0.016158940862199146, 0.11070636952476212, 0.05202098094740329, 0.00755621292514459, -0.016332203527892688, -0.11793667192853156, -0.07017770331025897, -0.007556212925144589, 0.07552652675122472, 0.025475536146245106, -0.022624012243866037, -0.0021133998738822233, -0.08432241177256201, -0.0021133998738822233, 0.0951580427350095, -0.08159008505663891, -0.0021133998738822233, 0.08700369093869247, -0.0777908059204601, -0.0021133998738822233, 0.08311454613207714, -0.09017661798725884, -0.0021133998738822233, 0.10125246802181254, -0.04416763907676325, -0.0021133998738822233, 0.04625225164274569, -0.0467052640611027, -0.0021133998738822233, 0.04865217505038656, -0.1797068873575995, 0.05745066212990877, 0.15447149916965344, 1.0, -0.2782148074777716, -0.3767621373493346, -0.28868512421141257, 0.2435104444384922, 0.042812140557898816, 0.18611944997289606], [0.0012147794729686294, -0.0241353723603211, 0.08202919645731585, 0.06026700017637367, -0.007721160009098325, -0.013588829059283302, -0.13430175066263256, -0.06392145833871449, 0.0077211600090983275, 0.06004835777743914, 0.05143757263283329, -0.05007665545044517, 0.0010297293228975783, -0.10550969525221791, 0.0010297293228975783, 0.11572065517555083, -0.08782179736768794, 0.0010297293228975783, 0.0907847854525632, -0.10761821698475751, 0.0010297293228975783, 0.11155436356101248, -0.10730963427620328, 0.0010297293228975783, 0.11727230654466908, -0.041031361263671504, 0.0010297293228975783, 0.040433080354261755, -0.0492765049697282, 0.0010297293228975783, 0.04857480053298277, -0.2041449607569331, 0.06758941420686729, 0.1732648524269204, -0.2782148074777716, 1.0, -0.3733222859365921, -0.28604941899078157, 0.233005525012496, 0.03055035807230956, 0.1826633667788349], [0.0007521807011949914, 0.17171777869091615, -0.08385168936270106, -0.15064248847911435, 0.0030618298454302066, 0.20886475546714192, 0.301918749011285, -0.08083556522609313, -0.0030618298454302066, 0.08361817831666819, -0.10441759819553018, 0.3364097780255705, -0.2849166458500381, 0.3363640634929488, -0.2849166458500381, -0.11233777625406866, 0.236946963871235, -0.2849166458500381, -0.0004077158725881331, 0.23970498373584637, -0.2849166458500381, -0.003350773408872253, 0.33903131701091704, -0.2849166458500381, -0.11483871499570059, 0.09603303697422182, -0.2849166458500381, 0.14462638547452714, 0.10257118616844516, -0.2849166458500381, 0.13796637540689907, 0.3316614848172629, -0.10912981441493343, -0.2821379770975611, -0.3767621373493346, -0.3733222859365921, 1.0, -0.3873718709062573, -0.20836250343948312, 0.2716246710861189, -0.06043627878449335], [0.013744173305345336, -0.15347749042895084, -0.09512485882292497, 0.05907101281466968, -0.0033187895436075847, -0.2053980051888406, -0.09168283858843226, 0.222605254379153, 0.003318789543607618, -0.22720630042804055, 0.041899281981820136, -0.30683412957623935, 0.32136073231782275, -0.19171501561255763, 0.32136073231782275, -0.08079805377721072, -0.09997516637631303, 0.32136073231782275, -0.17416391693981773, -0.08742249237996844, 0.32136073231782275, -0.18737348746355928, -0.18718484219619158, 0.32136073231782275, -0.08550850677032465, -0.024261007248864607, 0.32136073231782275, -0.24774242360739093, -0.021034046310894505, 0.32136073231782275, -0.25059546380835057, 0.004138055475923, -0.00011622106193560245, -0.004704962197151649, -0.28868512421141257, -0.28604941899078157, -0.3873718709062573, 1.0, -0.23385205012387159, -0.37743731568410765, -0.2947083702754892], [0.00510622261994955, 0.016566877681808662, 0.3796974611682682, 0.15971233121691794, 0.00844820673274314, 0.0061524815982704735, -0.3522286701130738, -0.32308808987259535, -0.00844820673274314, 0.331940555609175, 0.01327408764927343, 0.019720367686755506, -0.039061982110431215, -0.2637461471340514, -0.039061982110431215, 0.3272027731682441, -0.31269380305203076, -0.039061982110431215, 0.3602769889846693, -0.3127402234192639, -0.039061982110431215, 0.36065286693247117, -0.2621430446280263, -0.039061982110431215, 0.3242207719993758, -0.24503868570619167, -0.039061982110431215, 0.27975608223589377, -0.25222023689543394, -0.039061982110431215, 0.2861105877784701, -0.6455614232660596, 0.20257047544942433, 0.5585326708194007, 0.2435104444384922, 0.233005525012496, -0.20836250343948312, -0.23385205012387159, 1.0, 0.24789985628614847, 0.8258804608852464], [-0.014569323728666463, 0.22017333857626337, 0.0968479362564688, -0.11389023002193659, 0.24739796321412494, 0.35214996779595914, 0.19335642223784563, -0.33831372903110696, -0.24739796321412494, 0.49043396944000867, -0.1601893262044364, 0.787065528472674, -0.7635565582866174, 0.3608980557319581, -0.7635565582866174, 0.2965941920005668, 0.21075337001875705, -0.7635565582866174, 0.44178009435947035, 0.1718362532134267, -0.7635565582866174, 0.48269204827330237, 0.3220760193857884, -0.7635565582866174, 0.3383042642201648, 0.01695147216454861, -0.7635565582866174, 0.6296031609781186, 0.01807510411034437, -0.7635565582866174, 0.6274288843898873, 0.060165327127736146, 0.0049038394150229345, -0.07468085092684529, 0.042812140557898816, 0.03055035807230956, 0.2716246710861189, -0.37743731568410765, 0.24789985628614847, 1.0, 0.6510648031856269], [4.783870977345061e-05, 0.10241060563801817, 0.3190723625585756, 0.06465324930083799, 0.11300826111493893, 0.15782978296862482, -0.19948408409395482, -0.3967653772151228, -0.11300826111493896, 0.4690421358679648, -0.05218986637650994, 0.3607687917499204, -0.3748783625811951, -0.0645149078943777, -0.3748783625811951, 0.41261876926038354, -0.17763334951349558, -0.3748783625811951, 0.5101002903810599, -0.18948522868296697, -0.3748783625811951, 0.5228814863623661, -0.08427046623126258, -0.3748783625811951, 0.4328683684285198, -0.1971441811933481, -0.3748783625811951, 0.515709076700807, -0.2026046372358619, -0.3748783625811951, 0.5198665359476685, -0.4467758742884541, 0.1705692867048988, 0.3580356159084055, 0.18611944997289606, 0.1826633667788349, -0.06043627878449335, -0.2947083702754892, 0.8258804608852464, 0.6510648031856269, 1.0]]}],\n",
       "                        {\"autosize\": false, \"height\": 720, \"margin\": {\"b\": 210, \"l\": 210, \"r\": 0, \"t\": 25}, \"template\": {\"data\": {\"bar\": [{\"error_x\": {\"color\": \"#2a3f5f\"}, \"error_y\": {\"color\": \"#2a3f5f\"}, \"marker\": {\"line\": {\"color\": \"#E5ECF6\", \"width\": 0.5}}, \"type\": \"bar\"}], \"barpolar\": [{\"marker\": {\"line\": {\"color\": \"#E5ECF6\", \"width\": 0.5}}, \"type\": \"barpolar\"}], \"carpet\": [{\"aaxis\": {\"endlinecolor\": \"#2a3f5f\", \"gridcolor\": \"white\", \"linecolor\": \"white\", \"minorgridcolor\": \"white\", \"startlinecolor\": \"#2a3f5f\"}, \"baxis\": {\"endlinecolor\": \"#2a3f5f\", \"gridcolor\": \"white\", \"linecolor\": \"white\", \"minorgridcolor\": \"white\", \"startlinecolor\": \"#2a3f5f\"}, \"type\": \"carpet\"}], \"choropleth\": [{\"colorbar\": {\"outlinewidth\": 0, \"ticks\": \"\"}, \"type\": \"choropleth\"}], \"contour\": [{\"colorbar\": {\"outlinewidth\": 0, \"ticks\": \"\"}, \"colorscale\": [[0.0, \"#0d0887\"], [0.1111111111111111, \"#46039f\"], [0.2222222222222222, \"#7201a8\"], [0.3333333333333333, \"#9c179e\"], [0.4444444444444444, \"#bd3786\"], [0.5555555555555556, \"#d8576b\"], [0.6666666666666666, \"#ed7953\"], [0.7777777777777778, \"#fb9f3a\"], [0.8888888888888888, \"#fdca26\"], [1.0, \"#f0f921\"]], \"type\": \"contour\"}], \"contourcarpet\": [{\"colorbar\": {\"outlinewidth\": 0, \"ticks\": \"\"}, \"type\": \"contourcarpet\"}], \"heatmap\": [{\"colorbar\": {\"outlinewidth\": 0, \"ticks\": \"\"}, \"colorscale\": [[0.0, \"#0d0887\"], [0.1111111111111111, \"#46039f\"], [0.2222222222222222, \"#7201a8\"], [0.3333333333333333, \"#9c179e\"], [0.4444444444444444, \"#bd3786\"], [0.5555555555555556, \"#d8576b\"], [0.6666666666666666, \"#ed7953\"], [0.7777777777777778, \"#fb9f3a\"], [0.8888888888888888, \"#fdca26\"], [1.0, \"#f0f921\"]], \"type\": \"heatmap\"}], \"heatmapgl\": [{\"colorbar\": {\"outlinewidth\": 0, \"ticks\": \"\"}, \"colorscale\": [[0.0, \"#0d0887\"], [0.1111111111111111, \"#46039f\"], [0.2222222222222222, \"#7201a8\"], [0.3333333333333333, \"#9c179e\"], [0.4444444444444444, \"#bd3786\"], [0.5555555555555556, \"#d8576b\"], [0.6666666666666666, \"#ed7953\"], [0.7777777777777778, \"#fb9f3a\"], [0.8888888888888888, \"#fdca26\"], [1.0, \"#f0f921\"]], \"type\": \"heatmapgl\"}], \"histogram\": [{\"marker\": {\"colorbar\": {\"outlinewidth\": 0, \"ticks\": \"\"}}, \"type\": \"histogram\"}], \"histogram2d\": [{\"colorbar\": {\"outlinewidth\": 0, \"ticks\": \"\"}, \"colorscale\": [[0.0, \"#0d0887\"], [0.1111111111111111, \"#46039f\"], [0.2222222222222222, \"#7201a8\"], [0.3333333333333333, \"#9c179e\"], [0.4444444444444444, \"#bd3786\"], [0.5555555555555556, \"#d8576b\"], [0.6666666666666666, \"#ed7953\"], [0.7777777777777778, \"#fb9f3a\"], [0.8888888888888888, \"#fdca26\"], [1.0, \"#f0f921\"]], \"type\": \"histogram2d\"}], \"histogram2dcontour\": [{\"colorbar\": {\"outlinewidth\": 0, \"ticks\": \"\"}, \"colorscale\": [[0.0, \"#0d0887\"], [0.1111111111111111, \"#46039f\"], [0.2222222222222222, \"#7201a8\"], [0.3333333333333333, \"#9c179e\"], [0.4444444444444444, \"#bd3786\"], [0.5555555555555556, \"#d8576b\"], [0.6666666666666666, \"#ed7953\"], [0.7777777777777778, \"#fb9f3a\"], [0.8888888888888888, \"#fdca26\"], [1.0, \"#f0f921\"]], \"type\": \"histogram2dcontour\"}], \"mesh3d\": [{\"colorbar\": {\"outlinewidth\": 0, \"ticks\": \"\"}, \"type\": \"mesh3d\"}], \"parcoords\": [{\"line\": {\"colorbar\": {\"outlinewidth\": 0, \"ticks\": \"\"}}, \"type\": \"parcoords\"}], \"pie\": [{\"automargin\": true, \"type\": \"pie\"}], \"scatter\": [{\"marker\": {\"colorbar\": {\"outlinewidth\": 0, \"ticks\": \"\"}}, \"type\": \"scatter\"}], \"scatter3d\": [{\"line\": {\"colorbar\": {\"outlinewidth\": 0, \"ticks\": \"\"}}, \"marker\": {\"colorbar\": {\"outlinewidth\": 0, \"ticks\": \"\"}}, \"type\": \"scatter3d\"}], \"scattercarpet\": [{\"marker\": {\"colorbar\": {\"outlinewidth\": 0, \"ticks\": \"\"}}, \"type\": \"scattercarpet\"}], \"scattergeo\": [{\"marker\": {\"colorbar\": {\"outlinewidth\": 0, \"ticks\": \"\"}}, \"type\": \"scattergeo\"}], \"scattergl\": [{\"marker\": {\"colorbar\": {\"outlinewidth\": 0, \"ticks\": \"\"}}, \"type\": \"scattergl\"}], \"scattermapbox\": [{\"marker\": {\"colorbar\": {\"outlinewidth\": 0, \"ticks\": \"\"}}, \"type\": \"scattermapbox\"}], \"scatterpolar\": [{\"marker\": {\"colorbar\": {\"outlinewidth\": 0, \"ticks\": \"\"}}, \"type\": \"scatterpolar\"}], \"scatterpolargl\": [{\"marker\": {\"colorbar\": {\"outlinewidth\": 0, \"ticks\": \"\"}}, \"type\": \"scatterpolargl\"}], \"scatterternary\": [{\"marker\": {\"colorbar\": {\"outlinewidth\": 0, \"ticks\": \"\"}}, \"type\": \"scatterternary\"}], \"surface\": [{\"colorbar\": {\"outlinewidth\": 0, \"ticks\": \"\"}, \"colorscale\": [[0.0, \"#0d0887\"], [0.1111111111111111, \"#46039f\"], [0.2222222222222222, \"#7201a8\"], [0.3333333333333333, \"#9c179e\"], [0.4444444444444444, \"#bd3786\"], [0.5555555555555556, \"#d8576b\"], [0.6666666666666666, \"#ed7953\"], [0.7777777777777778, \"#fb9f3a\"], [0.8888888888888888, \"#fdca26\"], [1.0, \"#f0f921\"]], \"type\": \"surface\"}], \"table\": [{\"cells\": {\"fill\": {\"color\": \"#EBF0F8\"}, \"line\": {\"color\": \"white\"}}, \"header\": {\"fill\": {\"color\": \"#C8D4E3\"}, \"line\": {\"color\": \"white\"}}, \"type\": \"table\"}]}, \"layout\": {\"annotationdefaults\": {\"arrowcolor\": \"#2a3f5f\", \"arrowhead\": 0, \"arrowwidth\": 1}, \"coloraxis\": {\"colorbar\": {\"outlinewidth\": 0, \"ticks\": \"\"}}, \"colorscale\": {\"diverging\": [[0, \"#8e0152\"], [0.1, \"#c51b7d\"], [0.2, \"#de77ae\"], [0.3, \"#f1b6da\"], [0.4, \"#fde0ef\"], [0.5, \"#f7f7f7\"], [0.6, \"#e6f5d0\"], [0.7, \"#b8e186\"], [0.8, \"#7fbc41\"], [0.9, \"#4d9221\"], [1, \"#276419\"]], \"sequential\": [[0.0, \"#0d0887\"], [0.1111111111111111, \"#46039f\"], [0.2222222222222222, \"#7201a8\"], [0.3333333333333333, \"#9c179e\"], [0.4444444444444444, \"#bd3786\"], [0.5555555555555556, \"#d8576b\"], [0.6666666666666666, \"#ed7953\"], [0.7777777777777778, \"#fb9f3a\"], [0.8888888888888888, \"#fdca26\"], [1.0, \"#f0f921\"]], \"sequentialminus\": [[0.0, \"#0d0887\"], [0.1111111111111111, \"#46039f\"], [0.2222222222222222, \"#7201a8\"], [0.3333333333333333, \"#9c179e\"], [0.4444444444444444, \"#bd3786\"], [0.5555555555555556, \"#d8576b\"], [0.6666666666666666, \"#ed7953\"], [0.7777777777777778, \"#fb9f3a\"], [0.8888888888888888, \"#fdca26\"], [1.0, \"#f0f921\"]]}, \"colorway\": [\"#636efa\", \"#EF553B\", \"#00cc96\", \"#ab63fa\", \"#FFA15A\", \"#19d3f3\", \"#FF6692\", \"#B6E880\", \"#FF97FF\", \"#FECB52\"], \"font\": {\"color\": \"#2a3f5f\"}, \"geo\": {\"bgcolor\": \"white\", \"lakecolor\": \"white\", \"landcolor\": \"#E5ECF6\", \"showlakes\": true, \"showland\": true, \"subunitcolor\": \"white\"}, \"hoverlabel\": {\"align\": \"left\"}, \"hovermode\": \"closest\", \"mapbox\": {\"style\": \"light\"}, \"paper_bgcolor\": \"white\", \"plot_bgcolor\": \"#E5ECF6\", \"polar\": {\"angularaxis\": {\"gridcolor\": \"white\", \"linecolor\": \"white\", \"ticks\": \"\"}, \"bgcolor\": \"#E5ECF6\", \"radialaxis\": {\"gridcolor\": \"white\", \"linecolor\": \"white\", \"ticks\": \"\"}}, \"scene\": {\"xaxis\": {\"backgroundcolor\": \"#E5ECF6\", \"gridcolor\": \"white\", \"gridwidth\": 2, \"linecolor\": \"white\", \"showbackground\": true, \"ticks\": \"\", \"zerolinecolor\": \"white\"}, \"yaxis\": {\"backgroundcolor\": \"#E5ECF6\", \"gridcolor\": \"white\", \"gridwidth\": 2, \"linecolor\": \"white\", \"showbackground\": true, \"ticks\": \"\", \"zerolinecolor\": \"white\"}, \"zaxis\": {\"backgroundcolor\": \"#E5ECF6\", \"gridcolor\": \"white\", \"gridwidth\": 2, \"linecolor\": \"white\", \"showbackground\": true, \"ticks\": \"\", \"zerolinecolor\": \"white\"}}, \"shapedefaults\": {\"line\": {\"color\": \"#2a3f5f\"}}, \"ternary\": {\"aaxis\": {\"gridcolor\": \"white\", \"linecolor\": \"white\", \"ticks\": \"\"}, \"baxis\": {\"gridcolor\": \"white\", \"linecolor\": \"white\", \"ticks\": \"\"}, \"bgcolor\": \"#E5ECF6\", \"caxis\": {\"gridcolor\": \"white\", \"linecolor\": \"white\", \"ticks\": \"\"}}, \"title\": {\"x\": 0.05}, \"xaxis\": {\"automargin\": true, \"gridcolor\": \"white\", \"linecolor\": \"white\", \"ticks\": \"\", \"title\": {\"standoff\": 15}, \"zerolinecolor\": \"white\", \"zerolinewidth\": 2}, \"yaxis\": {\"automargin\": true, \"gridcolor\": \"white\", \"linecolor\": \"white\", \"ticks\": \"\", \"title\": {\"standoff\": 15}, \"zerolinecolor\": \"white\", \"zerolinewidth\": 2}}}, \"title\": {\"text\": \"Correlation Matrix for variables\"}, \"width\": 800, \"xaxis\": {\"tickfont\": {\"size\": 9}}, \"yaxis\": {\"tickfont\": {\"size\": 9}}},\n",
       "                        {\"responsive\": true}\n",
       "                    ).then(function(){\n",
       "                            \n",
       "var gd = document.getElementById('948f2762-73cf-4410-84a8-3f40fbfc2e3a');\n",
       "var x = new MutationObserver(function (mutations, observer) {{\n",
       "        var display = window.getComputedStyle(gd).display;\n",
       "        if (!display || display === 'none') {{\n",
       "            console.log([gd, 'removed!']);\n",
       "            Plotly.purge(gd);\n",
       "            observer.disconnect();\n",
       "        }}\n",
       "}});\n",
       "\n",
       "// Listen for the removal of the full notebook cells\n",
       "var notebookContainer = gd.closest('#notebook-container');\n",
       "if (notebookContainer) {{\n",
       "    x.observe(notebookContainer, {childList: true});\n",
       "}}\n",
       "\n",
       "// Listen for the clearing of the current output cell\n",
       "var outputEl = gd.closest('.output');\n",
       "if (outputEl) {{\n",
       "    x.observe(outputEl, {childList: true});\n",
       "}}\n",
       "\n",
       "                        })\n",
       "                };\n",
       "                });\n",
       "            </script>\n",
       "        </div>"
      ]
     },
     "metadata": {},
     "output_type": "display_data"
    }
   ],
   "source": [
    "correlation = telcom.corr()\n",
    "#tick labels\n",
    "matrix_cols = correlation.columns.tolist()\n",
    "#convert to array\n",
    "corr_array  = np.array(correlation)\n",
    "\n",
    "#Plotting\n",
    "trace = go.Heatmap(z = corr_array,\n",
    "                   x = matrix_cols,\n",
    "                   y = matrix_cols,\n",
    "                   colorscale = \"Viridis\",\n",
    "                   colorbar   = dict(title = \"Pearson Correlation coefficient\",\n",
    "                                     titleside = \"right\"\n",
    "                                    ) ,\n",
    "                  )\n",
    "\n",
    "layout = go.Layout(dict(title = \"Correlation Matrix for variables\",\n",
    "                        autosize = False,\n",
    "                        height  = 720,\n",
    "                        width   = 800,\n",
    "                        margin  = dict(r = 0 ,l = 210,\n",
    "                                       t = 25,b = 210,\n",
    "                                      ),\n",
    "                        yaxis   = dict(tickfont = dict(size = 9)),\n",
    "                        xaxis   = dict(tickfont = dict(size = 9))\n",
    "                       )\n",
    "                  )\n",
    "\n",
    "data = [trace]\n",
    "fig = go.Figure(data=data,layout=layout)\n",
    "py.iplot(fig)"
   ]
  },
  {
   "cell_type": "code",
   "execution_count": 124,
   "metadata": {},
   "outputs": [],
   "source": [
    "#Removing missing values \n",
    "telcom.dropna(inplace = True)\n",
    "#Remove customer IDs from the data set\n",
    "df2 = telcom.iloc[:,1:]\n",
    "#Convertin the predictor variable in a binary numeric variable\n",
    "#df2['Churn'].replace(to_replace='Yes', value=1, inplace=True)\n",
    "#df2['Churn'].replace(to_replace='No',  value=0, inplace=True)\n",
    "\n",
    "#Let's convert all the categorical variables into dummy variables\n",
    "df_dummies = pd.get_dummies(df2)\n",
    "df_dummies.head()\n",
    "\n",
    "# We will use the data frame where we had created dummy variables\n",
    "# We will use the data frame where we had created dummy variables\n",
    "y = df_dummies['Churn'].values\n",
    "X = df_dummies.drop(columns = ['Churn'])\n",
    "\n",
    "\n",
    "\n",
    "\n",
    "# Scaling all the variables to a range of 0 to 1\n",
    "from sklearn.preprocessing import MinMaxScaler\n",
    "features = X.columns.values\n",
    "scaler = MinMaxScaler(feature_range = (0,1))\n",
    "scaler.fit(X)\n",
    "X = pd.DataFrame(scaler.transform(X))\n",
    "X.columns = features"
   ]
  },
  {
   "cell_type": "code",
   "execution_count": 125,
   "metadata": {},
   "outputs": [],
   "source": [
    "from sklearn.model_selection import train_test_split\n",
    "X_train, X_test, y_train, y_test = train_test_split(X, y, test_size=0.3, random_state=101)"
   ]
  },
  {
   "cell_type": "code",
   "execution_count": 126,
   "metadata": {},
   "outputs": [],
   "source": [
    "from sklearn.linear_model import LogisticRegression\n",
    "model = LogisticRegression()\n",
    "result = model.fit(train_X, train_Y)"
   ]
  },
  {
   "cell_type": "code",
   "execution_count": 127,
   "metadata": {},
   "outputs": [
    {
     "name": "stdout",
     "output_type": "stream",
     "text": [
      "0.7682464454976303\n"
     ]
    }
   ],
   "source": [
    "from sklearn import metrics\n",
    "prediction_test = model.predict(X_test)\n",
    "# Print the prediction accuracy\n",
    "print (metrics.accuracy_score(y_test, prediction_test))\n"
   ]
  },
  {
   "cell_type": "code",
   "execution_count": 145,
   "metadata": {},
   "outputs": [
    {
     "name": "stdout",
     "output_type": "stream",
     "text": [
      "0.7995735607675906\n"
     ]
    }
   ],
   "source": [
    "from sklearn.ensemble import RandomForestClassifier\n",
    "X_train, X_test, y_train, y_test = train_test_split(X, y, test_size=0.2, random_state=101)\n",
    "model_rf = RandomForestClassifier(n_estimators=1000 , oob_score = True, n_jobs = -1,\n",
    "                                  random_state =200, max_features = \"auto\",\n",
    "                                  max_leaf_nodes = 500)\n",
    "model_rf.fit(X_train, y_train)\n",
    "\n",
    "# Make predictions\n",
    "prediction_test = model_rf.predict(X_test)\n",
    "print (metrics.accuracy_score(y_test, prediction_test))"
   ]
  },
  {
   "cell_type": "code",
   "execution_count": 144,
   "metadata": {},
   "outputs": [
    {
     "name": "stdout",
     "output_type": "stream",
     "text": [
      "{'max_depth': 1, 'min_child_weight': 1} 0.8074666666666667\n"
     ]
    }
   ],
   "source": [
    "def XGBmodelfit(alg, X_train, y_train,X_test=None,Y_test=None,X_predictions=None,useTrainCV=True, cv_folds=5, early_stopping_rounds=200):\n",
    "    if useTrainCV:\n",
    "        xgb_param = alg.get_xgb_params()\n",
    "        xgtrain = xgb.DMatrix(X_train, label=y_train)\n",
    "        cvresult = xgb.cv(xgb_param, xgtrain, num_boost_round=alg.get_params()['n_estimators'], nfold=cv_folds,\n",
    "            metrics='auc', early_stopping_rounds=early_stopping_rounds, show_stdv=False)\n",
    "        alg.set_params(n_estimators=cvresult.shape[0])\n",
    " \n",
    "    \n",
    "    alg.fit(X_train, y_train,eval_metric='auc')\n",
    " \n",
    "\n",
    "    dtrain_predictions = alg.predict(X_test) \n",
    "    # dtrain_predprob = alg.predict_proba(X_test)[:,1]   \n",
    " \n",
    "\n",
    "    print(\"\\nModel Report\")\n",
    "    print(\"Accuracy  (Train) : %.4g\" % metrics.accuracy_score(Y_test, dtrain_predictions))\n",
    "    print(\"AUC Score (Train): %f\" % metrics.roc_auc_score(Y_test, dtrain_predictions))\n",
    "    print(alg)\n",
    "    print(\"the best:\")\n",
    "    print(cvresult.shape[0])\n",
    "    plot_importance(alg)\n",
    "    plt.show()\n",
    "#dataset_X,dataset_Y=return_data,return_tarin_data()\n",
    " \n",
    "X_train, X_test, y_train, y_test = train_test_split(X, y,\n",
    "                                                  test_size=0.2,\n",
    "                                                  random_state=45)\n",
    " \n",
    "xgb1 = XGBClassifier(\n",
    "     learning_rate =0.1,\n",
    "     n_estimators=1000,\n",
    "     max_depth=5,\n",
    "     min_child_weight=1,\n",
    "     gamma=1,\n",
    "     subsample=0.8,\n",
    "     colsample_bytree=0.8,\n",
    "     objective= 'binary:logistic',\n",
    "     nthread=6,\n",
    "     scale_pos_weight=1,\n",
    "     seed=27)\n",
    " \n",
    "# XGBmodelfit(xgb1,X_train,y_train,X_test,y_test)\n",
    " \n",
    "param_grid = {\n",
    " 'max_depth':range(1,10,1),\n",
    " 'min_child_weight':range(1,12,3)\n",
    "}\n",
    "\n",
    "\n",
    "gsearch1 = GridSearchCV(estimator = XGBClassifier(\n",
    "       learning_rate =0.1, n_estimators=140, max_depth=9,\n",
    "       min_child_weight=10,gamma=1, subsample=0.8,colsample_bytree=0.8,\n",
    "       objective= 'binary:logistic', nthread=4,scale_pos_weight=1, seed=27),\n",
    "       param_grid=param_grid,cv=5)\n",
    "gsearch1.fit(X_train,y_train)\n",
    "print(gsearch1.best_params_,gsearch1.best_score_)\n"
   ]
  },
  {
   "cell_type": "code",
   "execution_count": null,
   "metadata": {},
   "outputs": [],
   "source": []
  }
 ],
 "metadata": {
  "kernelspec": {
   "display_name": "Python 3",
   "language": "python",
   "name": "python3"
  },
  "language_info": {
   "codemirror_mode": {
    "name": "ipython",
    "version": 3
   },
   "file_extension": ".py",
   "mimetype": "text/x-python",
   "name": "python",
   "nbconvert_exporter": "python",
   "pygments_lexer": "ipython3",
   "version": "3.7.3"
  }
 },
 "nbformat": 4,
 "nbformat_minor": 2
}
